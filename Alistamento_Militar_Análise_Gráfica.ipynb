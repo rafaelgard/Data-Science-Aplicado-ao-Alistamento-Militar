{
  "nbformat": 4,
  "nbformat_minor": 0,
  "metadata": {
    "kernelspec": {
      "display_name": "Python 3",
      "language": "python",
      "name": "python3"
    },
    "language_info": {
      "codemirror_mode": {
        "name": "ipython",
        "version": 3
      },
      "file_extension": ".py",
      "mimetype": "text/x-python",
      "name": "python",
      "nbconvert_exporter": "python",
      "pygments_lexer": "ipython3",
      "version": "3.8.8"
    },
    "colab": {
      "name": "Alistamento Militar - Análise Gráfica.ipynb",
      "provenance": [],
      "collapsed_sections": [
        "RfVPqWM8lioT",
        "6z4tDrCIlioT",
        "HJHSkh8pyyVh"
      ]
    },
    "accelerator": "GPU"
  },
  "cells": [
    {
      "cell_type": "markdown",
      "metadata": {
        "id": "nKEWql3LlioJ"
      },
      "source": [
        "# Data Science aplicado ao Serviço Militar - Análise Gráfica"
      ]
    },
    {
      "cell_type": "markdown",
      "metadata": {
        "id": "tgeFySRNlioJ"
      },
      "source": [
        "### Objetivo do projeto"
      ]
    },
    {
      "cell_type": "markdown",
      "metadata": {
        "id": "u6ziMvdvlioK"
      },
      "source": [
        "O objetivo do projeto é analisar os dados demográficos a respeito das pessoas que se alistam. "
      ]
    },
    {
      "cell_type": "markdown",
      "metadata": {
        "id": "Ze_Zcb-QlioL"
      },
      "source": [
        "### Conhecendo os dados"
      ]
    },
    {
      "cell_type": "markdown",
      "metadata": {
        "id": "BIdIXW1SlioL"
      },
      "source": [
        "Os dados utilizados foram fornecidos através dos dados abertos do exército brasileiro : <a href='http://www.dados.gov.br/dataset/servico-militar/'> Serviço Militar </a>.\n",
        "\n",
        "Como foi falado, o objetivo é prever as condições de operação de cada ponto de fornecimento de água, a partir de dados fornecidos. Os dados estão estruturados da seguinte forma:"
      ]
    },
    {
      "cell_type": "markdown",
      "metadata": {
        "id": "TKIPG8CZlioM"
      },
      "source": [
        "### Coluna - Tipo - Descrição\n",
        "* ANO_NASCIMENTO - inteiro - Ano de nascimento do cidadão\n",
        "* PESO - inteiro - Peso em quilos do cidadão\n",
        "* ALTURA - inteiro - Altura em centímetros do cidadão\n",
        "* CABECA - inteiro - Tamanho da cabeça em centímetros do cidadão\n",
        "* CALCADO - inteiro - Número do calçado do cidadão\n",
        "* CINTURA - texto - Tamanho da cintura em centímetros do cidadão\n",
        "* RELIGIAO - texto - Religião do cidadão\n",
        "* MUN_NASCIMENTO - texto - Município de nascimento do cidadão\n",
        "* UF_NASCIMENTO - texto - UF de nascimento do cidadão (KK - UF no exterior)\n",
        "* PAIS_NASCIMENTO - texto - País de nascimento do cidadão\n",
        "* ESTADO_CIVIL - texto - Estado civil (Solteiro, Casado, Desquitado, Divorciado, Viúvo, Separado Judicialmente, Outros) do cidadão\n",
        "* SEXO - texto - Sexo ( M - Masculino, F - Feminino) do cidadão\n",
        "* ESCOLARIDADE - texto - Escolaridade do cidadão\n",
        "* VINCULACAO_ANO - inteiro - Ano de alistamento do cidadão\n",
        "* DISPENSA - texto - Se o cidadão foi dispensado ou não (Sem dispensa, Com dispensa)\n",
        "* ZONA_RESIDENCIAL - texto - Tipo de zona residencial (Rural, Urbana) do cidadão\n",
        "* MUN_RESIDENCIA - texto - Município de residência do cidadão\n",
        "* UF_RESIDENCIA - texto - UF de residência do cidadão (KK - UF no exterior)\n",
        "* PAIS_RESIDENCIA - texto - País de residência do cidadão\n",
        "* JSM - texto - Junta de Serviço Militar em que o cidadão realizou o alistamento\n",
        "* MUN_JSM - texto - Município da Junta de Serviço Militar\n",
        "* UF_JSM - texto - UF da Junta de Serviço Militar (KK - UF no exterior)\n",
        "\n",
        "E o dicionário_series que faz a padronização quanto as séries dos inscritos possui os seguintes dados:\n",
        "* Valores_errados - texto - Valores escritos de maneira errada\n",
        "* Valores_certos - texto - Valores escritos de maneira correta de acordo com a lei X"
      ]
    },
    {
      "cell_type": "markdown",
      "metadata": {
        "id": "ibVb3py33k3A"
      },
      "source": [
        "# Tratando os dados"
      ]
    },
    {
      "cell_type": "markdown",
      "metadata": {
        "id": "55uo3xCglioN"
      },
      "source": [
        "### Importando as bibliotecas"
      ]
    },
    {
      "cell_type": "code",
      "metadata": {
        "id": "av2crBI3lioN"
      },
      "source": [
        "import pandas as pd\n",
        "import datetime\n",
        "import matplotlib.pyplot as plt\n",
        "import seaborn as sns\n",
        "import sklearn\n",
        "import numpy as np\n",
        "import plotly.offline as py\n",
        "import plotly.graph_objs as go"
      ],
      "execution_count": 1,
      "outputs": []
    },
    {
      "cell_type": "markdown",
      "metadata": {
        "id": "JZNOudUylioO"
      },
      "source": [
        "### Importando os dados"
      ]
    },
    {
      "cell_type": "code",
      "metadata": {
        "colab": {
          "base_uri": "https://localhost:8080/"
        },
        "id": "OBCm05DXoZqr",
        "outputId": "32083b86-c05b-423b-b46d-fe4f9d338d9c"
      },
      "source": [
        "#Faz a ligação com o banco de dados do Google\n",
        "from google.colab import drive\n",
        "drive.mount('/content/drive',force_remount=True)"
      ],
      "execution_count": 2,
      "outputs": [
        {
          "output_type": "stream",
          "text": [
            "Mounted at /content/drive\n"
          ],
          "name": "stdout"
        }
      ]
    },
    {
      "cell_type": "code",
      "metadata": {
        "colab": {
          "base_uri": "https://localhost:8080/"
        },
        "id": "UN-3-vpDlioQ",
        "outputId": "90437cbe-4b99-424e-e86d-e2a042421fcb"
      },
      "source": [
        "%%time\n",
        "#Importando o dataframe inicial atualizado\n",
        "df = pd.read_csv(\"/content/drive/MyDrive/Colab Notebooks/Alistamento Militar/df_atualizado_utf8.csv\", sep=\",\", encoding='UTF-8', low_memory=False)"
      ],
      "execution_count": 3,
      "outputs": [
        {
          "output_type": "stream",
          "text": [
            "CPU times: user 28.3 s, sys: 7.82 s, total: 36.1 s\n",
            "Wall time: 1min 20s\n"
          ],
          "name": "stdout"
        }
      ]
    },
    {
      "cell_type": "markdown",
      "metadata": {
        "id": "tYonJoW3lioR"
      },
      "source": [
        "### Inspecionando os dados"
      ]
    },
    {
      "cell_type": "code",
      "metadata": {
        "colab": {
          "base_uri": "https://localhost:8080/"
        },
        "id": "vwvIehe8lioS",
        "outputId": "6c659a12-1bf3-4223-c36f-6c03da2fadf7"
      },
      "source": [
        "%%time\n",
        "print(\"Informações do dataset:\")\n",
        "print(df.info())\n",
        "\n",
        "print(\"Nomes das colunas:\")\n",
        "print(df.columns.values)\n",
        "\n",
        "#Define a coluna indice como índice da tabela, permitindo assim a realização da busca usando a função df.loc\n",
        "df=df.set_index('ÍNDICE')"
      ],
      "execution_count": 4,
      "outputs": [
        {
          "output_type": "stream",
          "text": [
            "Informações do dataset:\n",
            "<class 'pandas.core.frame.DataFrame'>\n",
            "RangeIndex: 21365330 entries, 0 to 21365329\n",
            "Data columns (total 12 columns):\n",
            " #   Column            Dtype \n",
            "---  ------            ----- \n",
            " 0   ÍNDICE            int64 \n",
            " 1   ANO_NASCIMENTO    int64 \n",
            " 2   PAIS_NASCIMENTO   object\n",
            " 3   ESTADO_CIVIL      object\n",
            " 4   ESCOLARIDADE      object\n",
            " 5   VINCULACAO_ANO    int64 \n",
            " 6   DISPENSA          object\n",
            " 7   ZONA_RESIDENCIAL  object\n",
            " 8   MUN_RESIDENCIA    object\n",
            " 9   UF_RESIDENCIA     object\n",
            " 10  PAIS_RESIDENCIA   object\n",
            " 11  IDADE             int64 \n",
            "dtypes: int64(4), object(8)\n",
            "memory usage: 1.9+ GB\n",
            "None\n",
            "Nomes das colunas:\n",
            "['ÍNDICE' 'ANO_NASCIMENTO' 'PAIS_NASCIMENTO' 'ESTADO_CIVIL' 'ESCOLARIDADE'\n",
            " 'VINCULACAO_ANO' 'DISPENSA' 'ZONA_RESIDENCIAL' 'MUN_RESIDENCIA'\n",
            " 'UF_RESIDENCIA' 'PAIS_RESIDENCIA' 'IDADE']\n",
            "CPU times: user 1.14 s, sys: 551 ms, total: 1.69 s\n",
            "Wall time: 1.72 s\n"
          ],
          "name": "stdout"
        }
      ]
    },
    {
      "cell_type": "code",
      "metadata": {
        "colab": {
          "base_uri": "https://localhost:8080/",
          "height": 225
        },
        "id": "QK8fypewlioS",
        "outputId": "9c5da5be-e65f-41ed-ef16-038bbf37dc40"
      },
      "source": [
        "df.head()"
      ],
      "execution_count": 5,
      "outputs": [
        {
          "output_type": "execute_result",
          "data": {
            "text/html": [
              "<div>\n",
              "<style scoped>\n",
              "    .dataframe tbody tr th:only-of-type {\n",
              "        vertical-align: middle;\n",
              "    }\n",
              "\n",
              "    .dataframe tbody tr th {\n",
              "        vertical-align: top;\n",
              "    }\n",
              "\n",
              "    .dataframe thead th {\n",
              "        text-align: right;\n",
              "    }\n",
              "</style>\n",
              "<table border=\"1\" class=\"dataframe\">\n",
              "  <thead>\n",
              "    <tr style=\"text-align: right;\">\n",
              "      <th></th>\n",
              "      <th>ANO_NASCIMENTO</th>\n",
              "      <th>PAIS_NASCIMENTO</th>\n",
              "      <th>ESTADO_CIVIL</th>\n",
              "      <th>ESCOLARIDADE</th>\n",
              "      <th>VINCULACAO_ANO</th>\n",
              "      <th>DISPENSA</th>\n",
              "      <th>ZONA_RESIDENCIAL</th>\n",
              "      <th>MUN_RESIDENCIA</th>\n",
              "      <th>UF_RESIDENCIA</th>\n",
              "      <th>PAIS_RESIDENCIA</th>\n",
              "      <th>IDADE</th>\n",
              "    </tr>\n",
              "    <tr>\n",
              "      <th>ÍNDICE</th>\n",
              "      <th></th>\n",
              "      <th></th>\n",
              "      <th></th>\n",
              "      <th></th>\n",
              "      <th></th>\n",
              "      <th></th>\n",
              "      <th></th>\n",
              "      <th></th>\n",
              "      <th></th>\n",
              "      <th></th>\n",
              "      <th></th>\n",
              "    </tr>\n",
              "  </thead>\n",
              "  <tbody>\n",
              "    <tr>\n",
              "      <th>0</th>\n",
              "      <td>1989</td>\n",
              "      <td>BRASIL</td>\n",
              "      <td>Solteiro</td>\n",
              "      <td>Ensino Médio Completo</td>\n",
              "      <td>2007</td>\n",
              "      <td>Sem dispensa</td>\n",
              "      <td>Urbana</td>\n",
              "      <td>PIRASSUNUNGA</td>\n",
              "      <td>SP</td>\n",
              "      <td>BRASIL</td>\n",
              "      <td>18</td>\n",
              "    </tr>\n",
              "    <tr>\n",
              "      <th>1</th>\n",
              "      <td>1989</td>\n",
              "      <td>BRASIL</td>\n",
              "      <td>Casado</td>\n",
              "      <td>Ensino Superior Completo</td>\n",
              "      <td>2007</td>\n",
              "      <td>Sem dispensa</td>\n",
              "      <td>Urbana</td>\n",
              "      <td>SAO PAULO</td>\n",
              "      <td>SP</td>\n",
              "      <td>BRASIL</td>\n",
              "      <td>18</td>\n",
              "    </tr>\n",
              "    <tr>\n",
              "      <th>2</th>\n",
              "      <td>1989</td>\n",
              "      <td>BRASIL</td>\n",
              "      <td>Solteiro</td>\n",
              "      <td>Ensino Médio Completo</td>\n",
              "      <td>2007</td>\n",
              "      <td>Sem dispensa</td>\n",
              "      <td>Urbana</td>\n",
              "      <td>CATANDUVA</td>\n",
              "      <td>SP</td>\n",
              "      <td>BRASIL</td>\n",
              "      <td>18</td>\n",
              "    </tr>\n",
              "    <tr>\n",
              "      <th>3</th>\n",
              "      <td>1989</td>\n",
              "      <td>BRASIL</td>\n",
              "      <td>Solteiro</td>\n",
              "      <td>Ensino Médio Completo</td>\n",
              "      <td>2007</td>\n",
              "      <td>Sem dispensa</td>\n",
              "      <td>Urbana</td>\n",
              "      <td>PIRAJUI</td>\n",
              "      <td>SP</td>\n",
              "      <td>BRASIL</td>\n",
              "      <td>18</td>\n",
              "    </tr>\n",
              "    <tr>\n",
              "      <th>4</th>\n",
              "      <td>1989</td>\n",
              "      <td>BRASIL</td>\n",
              "      <td>Solteiro</td>\n",
              "      <td>Ensino Médio Completo</td>\n",
              "      <td>2007</td>\n",
              "      <td>Sem dispensa</td>\n",
              "      <td>Urbana</td>\n",
              "      <td>PIRAJUI</td>\n",
              "      <td>SP</td>\n",
              "      <td>BRASIL</td>\n",
              "      <td>18</td>\n",
              "    </tr>\n",
              "  </tbody>\n",
              "</table>\n",
              "</div>"
            ],
            "text/plain": [
              "        ANO_NASCIMENTO PAIS_NASCIMENTO  ... PAIS_RESIDENCIA IDADE\n",
              "ÍNDICE                                  ...                      \n",
              "0                 1989          BRASIL  ...          BRASIL    18\n",
              "1                 1989          BRASIL  ...          BRASIL    18\n",
              "2                 1989          BRASIL  ...          BRASIL    18\n",
              "3                 1989          BRASIL  ...          BRASIL    18\n",
              "4                 1989          BRASIL  ...          BRASIL    18\n",
              "\n",
              "[5 rows x 11 columns]"
            ]
          },
          "metadata": {
            "tags": []
          },
          "execution_count": 5
        }
      ]
    },
    {
      "cell_type": "markdown",
      "metadata": {
        "id": "RfVPqWM8lioT"
      },
      "source": [
        "###Identificando dados nulos do dataframe"
      ]
    },
    {
      "cell_type": "code",
      "metadata": {
        "colab": {
          "base_uri": "https://localhost:8080/"
        },
        "id": "g7hzFF8zlioT",
        "outputId": "4f738847-7494-401f-8f75-f5ff696b1fb4"
      },
      "source": [
        "#Verificando as colunas com dados nulos\n",
        "\n",
        "dados_nulos=df.isnull()\n",
        "\n",
        "print(\"Dados nulos:\")\n",
        "print(dados_nulos.sum())"
      ],
      "execution_count": 6,
      "outputs": [
        {
          "output_type": "stream",
          "text": [
            "Dados nulos:\n",
            "ANO_NASCIMENTO      0\n",
            "PAIS_NASCIMENTO     0\n",
            "ESTADO_CIVIL        0\n",
            "ESCOLARIDADE        0\n",
            "VINCULACAO_ANO      0\n",
            "DISPENSA            0\n",
            "ZONA_RESIDENCIAL    0\n",
            "MUN_RESIDENCIA      0\n",
            "UF_RESIDENCIA       0\n",
            "PAIS_RESIDENCIA     0\n",
            "IDADE               0\n",
            "dtype: int64\n"
          ],
          "name": "stdout"
        }
      ]
    },
    {
      "cell_type": "markdown",
      "metadata": {
        "id": "6z4tDrCIlioT"
      },
      "source": [
        "### Tratamento das colunas"
      ]
    },
    {
      "cell_type": "code",
      "metadata": {
        "colab": {
          "base_uri": "https://localhost:8080/",
          "height": 0
        },
        "id": "gNiivt8_lioU",
        "outputId": "e4e969c9-3bdf-4fd9-9bef-f8fd9cfea7b8"
      },
      "source": [
        "#As colunas com informações referentes a junta de serviço militar também serão dropadas pois não agregam informação relevante.\n",
        "#As colunas peso, altura, cabeça e calçado possuem muitos dados faltantes(quase 79%), logo também serão dropadas.\n",
        "\n",
        "#df = df.drop(['Unnamed: 0', 'PESO', 'ALTURA', 'CABECA', 'CALCADO', 'CINTURA', 'RELIGIAO', 'JSM', 'MUN_JSM', 'UF_JSM'], axis=1)\n",
        "\n",
        "\n",
        "#Cria a coluna idade\n",
        "df['IDADE']=0\n",
        "df['IDADE']=df['VINCULACAO_ANO']-df['ANO_NASCIMENTO']\n",
        "df['IDADE']\n",
        "\n",
        "df.head()"
      ],
      "execution_count": 7,
      "outputs": [
        {
          "output_type": "execute_result",
          "data": {
            "text/html": [
              "<div>\n",
              "<style scoped>\n",
              "    .dataframe tbody tr th:only-of-type {\n",
              "        vertical-align: middle;\n",
              "    }\n",
              "\n",
              "    .dataframe tbody tr th {\n",
              "        vertical-align: top;\n",
              "    }\n",
              "\n",
              "    .dataframe thead th {\n",
              "        text-align: right;\n",
              "    }\n",
              "</style>\n",
              "<table border=\"1\" class=\"dataframe\">\n",
              "  <thead>\n",
              "    <tr style=\"text-align: right;\">\n",
              "      <th></th>\n",
              "      <th>ANO_NASCIMENTO</th>\n",
              "      <th>PAIS_NASCIMENTO</th>\n",
              "      <th>ESTADO_CIVIL</th>\n",
              "      <th>ESCOLARIDADE</th>\n",
              "      <th>VINCULACAO_ANO</th>\n",
              "      <th>DISPENSA</th>\n",
              "      <th>ZONA_RESIDENCIAL</th>\n",
              "      <th>MUN_RESIDENCIA</th>\n",
              "      <th>UF_RESIDENCIA</th>\n",
              "      <th>PAIS_RESIDENCIA</th>\n",
              "      <th>IDADE</th>\n",
              "    </tr>\n",
              "    <tr>\n",
              "      <th>ÍNDICE</th>\n",
              "      <th></th>\n",
              "      <th></th>\n",
              "      <th></th>\n",
              "      <th></th>\n",
              "      <th></th>\n",
              "      <th></th>\n",
              "      <th></th>\n",
              "      <th></th>\n",
              "      <th></th>\n",
              "      <th></th>\n",
              "      <th></th>\n",
              "    </tr>\n",
              "  </thead>\n",
              "  <tbody>\n",
              "    <tr>\n",
              "      <th>0</th>\n",
              "      <td>1989</td>\n",
              "      <td>BRASIL</td>\n",
              "      <td>Solteiro</td>\n",
              "      <td>Ensino Médio Completo</td>\n",
              "      <td>2007</td>\n",
              "      <td>Sem dispensa</td>\n",
              "      <td>Urbana</td>\n",
              "      <td>PIRASSUNUNGA</td>\n",
              "      <td>SP</td>\n",
              "      <td>BRASIL</td>\n",
              "      <td>18</td>\n",
              "    </tr>\n",
              "    <tr>\n",
              "      <th>1</th>\n",
              "      <td>1989</td>\n",
              "      <td>BRASIL</td>\n",
              "      <td>Casado</td>\n",
              "      <td>Ensino Superior Completo</td>\n",
              "      <td>2007</td>\n",
              "      <td>Sem dispensa</td>\n",
              "      <td>Urbana</td>\n",
              "      <td>SAO PAULO</td>\n",
              "      <td>SP</td>\n",
              "      <td>BRASIL</td>\n",
              "      <td>18</td>\n",
              "    </tr>\n",
              "    <tr>\n",
              "      <th>2</th>\n",
              "      <td>1989</td>\n",
              "      <td>BRASIL</td>\n",
              "      <td>Solteiro</td>\n",
              "      <td>Ensino Médio Completo</td>\n",
              "      <td>2007</td>\n",
              "      <td>Sem dispensa</td>\n",
              "      <td>Urbana</td>\n",
              "      <td>CATANDUVA</td>\n",
              "      <td>SP</td>\n",
              "      <td>BRASIL</td>\n",
              "      <td>18</td>\n",
              "    </tr>\n",
              "    <tr>\n",
              "      <th>3</th>\n",
              "      <td>1989</td>\n",
              "      <td>BRASIL</td>\n",
              "      <td>Solteiro</td>\n",
              "      <td>Ensino Médio Completo</td>\n",
              "      <td>2007</td>\n",
              "      <td>Sem dispensa</td>\n",
              "      <td>Urbana</td>\n",
              "      <td>PIRAJUI</td>\n",
              "      <td>SP</td>\n",
              "      <td>BRASIL</td>\n",
              "      <td>18</td>\n",
              "    </tr>\n",
              "    <tr>\n",
              "      <th>4</th>\n",
              "      <td>1989</td>\n",
              "      <td>BRASIL</td>\n",
              "      <td>Solteiro</td>\n",
              "      <td>Ensino Médio Completo</td>\n",
              "      <td>2007</td>\n",
              "      <td>Sem dispensa</td>\n",
              "      <td>Urbana</td>\n",
              "      <td>PIRAJUI</td>\n",
              "      <td>SP</td>\n",
              "      <td>BRASIL</td>\n",
              "      <td>18</td>\n",
              "    </tr>\n",
              "  </tbody>\n",
              "</table>\n",
              "</div>"
            ],
            "text/plain": [
              "        ANO_NASCIMENTO PAIS_NASCIMENTO  ... PAIS_RESIDENCIA IDADE\n",
              "ÍNDICE                                  ...                      \n",
              "0                 1989          BRASIL  ...          BRASIL    18\n",
              "1                 1989          BRASIL  ...          BRASIL    18\n",
              "2                 1989          BRASIL  ...          BRASIL    18\n",
              "3                 1989          BRASIL  ...          BRASIL    18\n",
              "4                 1989          BRASIL  ...          BRASIL    18\n",
              "\n",
              "[5 rows x 11 columns]"
            ]
          },
          "metadata": {
            "tags": []
          },
          "execution_count": 7
        }
      ]
    },
    {
      "cell_type": "code",
      "metadata": {
        "colab": {
          "base_uri": "https://localhost:8080/"
        },
        "id": "gBwEMdHQ9yuO",
        "outputId": "dfc6d6f9-d8f8-430d-8d13-e695e8bc02d7"
      },
      "source": [
        "df['DISPENSA'].unique()"
      ],
      "execution_count": 8,
      "outputs": [
        {
          "output_type": "execute_result",
          "data": {
            "text/plain": [
              "array(['Sem dispensa', 'Com dispensa', 'Não informado'], dtype=object)"
            ]
          },
          "metadata": {
            "tags": []
          },
          "execution_count": 8
        }
      ]
    },
    {
      "cell_type": "markdown",
      "metadata": {
        "id": "sUFnJ7qclioW"
      },
      "source": [
        "# Análise Gráfica"
      ]
    },
    {
      "cell_type": "markdown",
      "metadata": {
        "id": "91kT1BuMlioW"
      },
      "source": [
        "## Analisa a quantidade de dispensas"
      ]
    },
    {
      "cell_type": "code",
      "metadata": {
        "colab": {
          "base_uri": "https://localhost:8080/",
          "height": 296
        },
        "id": "3pF6VgxZsfRC",
        "outputId": "e4f6f95c-57e7-4a4b-dcf1-cbaba6e4ffbb"
      },
      "source": [
        "Analise_dispensa=df.filter(items=['DISPENSA','VINCULACAO_ANO']).sort_values(by='DISPENSA',ascending=False)\n",
        "Analise_dispensa['DISPENSA'].value_counts(normalize=True).plot(kind=\"barh\")\n",
        "\n",
        "# Configura a legenda do eixo X\n",
        "plt.xlabel('QUANTIDADE EM MILHÕES')\n",
        "\n",
        "# Configura a legenda do eixo Y\n",
        "plt.ylabel('STATUS DA DISPENSA')\n",
        "\n",
        "# Título do gráfico\n",
        "plt.title(\"STATUS DAS DISPENSAS\")\n",
        "\n",
        "#Mostra o gráfico\n",
        "plt.show()\n",
        "%matplotlib inline\n"
      ],
      "execution_count": 9,
      "outputs": [
        {
          "output_type": "display_data",
          "data": {
            "image/png": "[encoded data removed]",
            "text/plain": [
              "<Figure size 432x288 with 1 Axes>"
            ]
          },
          "metadata": {
            "tags": [],
            "needs_background": "light"
          }
        }
      ]
    },
    {
      "cell_type": "markdown",
      "metadata": {
        "id": "lDHk55wRzo8J"
      },
      "source": [
        "## Analisa as idades"
      ]
    },
    {
      "cell_type": "code",
      "metadata": {
        "colab": {
          "base_uri": "https://localhost:8080/",
          "height": 295
        },
        "id": "ZIrG49l8smjT",
        "outputId": "c3daf74a-77aa-4f79-9897-9932cdfd699c"
      },
      "source": [
        "df.IDADE.hist()\n",
        "plt.title('Histograma de Idade')\n",
        "plt.xlabel('Idade')\n",
        "plt.ylabel('Frequencia')\n",
        "\n",
        "#Mostra o gráfico\n",
        "plt.show()\n",
        "%matplotlib inline\n"
      ],
      "execution_count": 10,
      "outputs": [
        {
          "output_type": "display_data",
          "data": {
            "image/png": "[encoded data removed]",
            "text/plain": [
              "<Figure size 432x288 with 1 Axes>"
            ]
          },
          "metadata": {
            "tags": [],
            "needs_background": "light"
          }
        }
      ]
    },
    {
      "cell_type": "markdown",
      "metadata": {
        "id": "55_q4FN-lioX"
      },
      "source": [
        "## Analisa a relação entre a dispensa e a escolaridade"
      ]
    },
    {
      "cell_type": "code",
      "metadata": {
        "colab": {
          "base_uri": "https://localhost:8080/",
          "height": 464
        },
        "id": "1svQ_wd0yowi",
        "outputId": "5f8edd54-19b4-40dd-db22-ef69c473eaba"
      },
      "source": [
        "#Criando o dataframe dados com 2 colunas, sem dispensa e com dispensa\n",
        "dados=pd.DataFrame()\n",
        "dados['Sem dispensa']=0\n",
        "dados['Com dispensa']=0\n",
        "\n",
        "dados['Sem dispensa']=df['ESCOLARIDADE'].where(df.DISPENSA=='Sem dispensa').value_counts().sort_values(ascending=False).head(10)\n",
        "dados['Com dispensa']=df['ESCOLARIDADE'].where(df.DISPENSA=='Com dispensa').value_counts().sort_values(ascending=False).head(10)\n",
        "\n",
        "ax = dados[['Sem dispensa','Com dispensa']].plot(kind='barh', title =\"ANÁLISE DE DISPENSA POR ESCOLARIDADE\", figsize=(10, 7), legend=True, fontsize=12)\n",
        "ax.set_xlabel(\"QUANTIDADE\", fontsize=12)\n",
        "ax.set_ylabel(\"ESCOLARIDADE\", fontsize=12)\n",
        "plt.show()"
      ],
      "execution_count": 11,
      "outputs": [
        {
          "output_type": "display_data",
          "data": {
            "image/png": "[encoded data removed]",
            "text/plain": [
              "<Figure size 720x504 with 1 Axes>"
            ]
          },
          "metadata": {
            "tags": [],
            "needs_background": "light"
          }
        }
      ]
    },
    {
      "cell_type": "markdown",
      "metadata": {
        "id": "YuXY-RDAlioX"
      },
      "source": [
        "### Verificando os valores da coluna estado cívil"
      ]
    },
    {
      "cell_type": "code",
      "metadata": {
        "colab": {
          "base_uri": "https://localhost:8080/"
        },
        "id": "fFXQyRM1yt2J",
        "outputId": "8332de62-88da-4678-bcf0-3bef15dfac78"
      },
      "source": [
        "pd.unique(df['ESTADO_CIVIL']).tolist()"
      ],
      "execution_count": 12,
      "outputs": [
        {
          "output_type": "execute_result",
          "data": {
            "text/plain": [
              "['Solteiro',\n",
              " 'Casado',\n",
              " 'Divorciado',\n",
              " 'Outros',\n",
              " 'Desquitado',\n",
              " 'Viúvo',\n",
              " 'Separado Judicialmente']"
            ]
          },
          "metadata": {
            "tags": []
          },
          "execution_count": 12
        }
      ]
    },
    {
      "cell_type": "markdown",
      "metadata": {
        "id": "HJHSkh8pyyVh"
      },
      "source": [
        "### Os termos 'Desquitado' e 'Separado Judicialmente', serão substituidos por 'divorciado'"
      ]
    },
    {
      "cell_type": "markdown",
      "metadata": {
        "id": "ImWCG6YolioX"
      },
      "source": [
        "### Corrigindo valores da coluna estado civil"
      ]
    },
    {
      "cell_type": "code",
      "metadata": {
        "id": "RaJeoWT6y4gI"
      },
      "source": [
        "df['ESTADO_CIVIL']=df['ESTADO_CIVIL'].replace('Desquitado', 'Divorciado')\n",
        "df['ESTADO_CIVIL']=df['ESTADO_CIVIL'].replace('Separado Judicialmente', 'Divorciado')\n",
        "df['ESTADO_CIVIL']=df['ESTADO_CIVIL'].replace('Viuvo', 'Viúvo')"
      ],
      "execution_count": 13,
      "outputs": []
    },
    {
      "cell_type": "markdown",
      "metadata": {
        "id": "FSArEbnolioY"
      },
      "source": [
        "## Analise da relação entre a dispensa e o estado cívil"
      ]
    },
    {
      "cell_type": "code",
      "metadata": {
        "colab": {
          "base_uri": "https://localhost:8080/",
          "height": 464
        },
        "id": "rP-BqR9Qy7Lg",
        "outputId": "7e87febd-722b-4c9d-9d2e-5b2d9b71fe51"
      },
      "source": [
        "#Cria um dataframe para armazenar os dados relativos a dispensa e o estado cívil\n",
        "dados=pd.DataFrame()\n",
        "dados['Sem dispensa']=0\n",
        "dados['Com dispensa']=0\n",
        "\n",
        "dados['Sem dispensa']=df['ESTADO_CIVIL'].where(Analise_dispensa.DISPENSA=='Sem dispensa').value_counts().sort_values(ascending=False).head(10)\n",
        "dados['Com dispensa']=df['ESTADO_CIVIL'].where(Analise_dispensa.DISPENSA=='Com dispensa').value_counts().sort_values(ascending=False).head(10)\n",
        "\n",
        "dados=dados[dados['Sem dispensa']!=6000794]\n",
        "\n",
        "ax = dados[['Sem dispensa','Com dispensa']].plot(kind='barh', title =\"ANÁLISE DE DISPENSA POR ESTADO CÍVIL\", figsize=(10, 7), legend=True, fontsize=12)\n",
        "ax.set_xlabel(\"QUANTIDADE\", fontsize=12)\n",
        "ax.set_ylabel(\"ESTADO CÍVIL\", fontsize=12)\n",
        "plt.show()"
      ],
      "execution_count": 14,
      "outputs": [
        {
          "output_type": "display_data",
          "data": {
            "image/png": "[encoded data removed]",
            "text/plain": [
              "<Figure size 720x504 with 1 Axes>"
            ]
          },
          "metadata": {
            "tags": [],
            "needs_background": "light"
          }
        }
      ]
    },
    {
      "cell_type": "markdown",
      "metadata": {
        "id": "LRlLNa2YlioY"
      },
      "source": [
        "## Analise da relação entre a dispensa e o pais de nascimento"
      ]
    },
    {
      "cell_type": "code",
      "metadata": {
        "colab": {
          "base_uri": "https://localhost:8080/",
          "height": 464
        },
        "id": "6DW2tAoqy_hB",
        "outputId": "4889fe5b-e304-450b-d7ab-5dc901ae4e82"
      },
      "source": [
        "#Cria um dataframe para armazenar os dados relativos a dispensa e o pais de nascimento\n",
        "dados=pd.DataFrame()\n",
        "dados['Sem dispensa']=0\n",
        "dados['Com dispensa']=0\n",
        "\n",
        "dados['Sem dispensa']=df['PAIS_NASCIMENTO'].where(Analise_dispensa.DISPENSA=='Sem dispensa').value_counts().sort_values(ascending=False).head(10)\n",
        "dados['Com dispensa']=df['PAIS_NASCIMENTO'].where(Analise_dispensa.DISPENSA=='Com dispensa').value_counts().sort_values(ascending=False).head(10)\n",
        "\n",
        "ax = dados[['Sem dispensa','Com dispensa']].plot(kind='barh', title =\"ANÁLISE DE DISPENSA POR PAÍS DE NASCIMENTO\", figsize=(10, 7), legend=True, fontsize=12)\n",
        "ax.set_xlabel(\"QUANTIDADE\", fontsize=12)\n",
        "ax.set_ylabel(\"PAIS DE NASCIMENTO\", fontsize=12)\n",
        "plt.show()"
      ],
      "execution_count": 15,
      "outputs": [
        {
          "output_type": "display_data",
          "data": {
            "image/png": "[encoded data removed]",
            "text/plain": [
              "<Figure size 720x504 with 1 Axes>"
            ]
          },
          "metadata": {
            "tags": [],
            "needs_background": "light"
          }
        }
      ]
    },
    {
      "cell_type": "markdown",
      "metadata": {
        "id": "it_0tDIllioZ"
      },
      "source": [
        "## Analise da a relação entre a dispensa e o pais de nascimento desconsiderando o Brasil"
      ]
    },
    {
      "cell_type": "code",
      "metadata": {
        "colab": {
          "base_uri": "https://localhost:8080/",
          "height": 628
        },
        "id": "LQXZxUi0zC0o",
        "outputId": "f953e595-2dff-431a-d8f1-022c4c16aada"
      },
      "source": [
        "dados=dados[dados['Sem dispensa']!=6051996]\n",
        "\n",
        "ax = dados[['Sem dispensa','Com dispensa']].plot(kind='barh', title =\"ANÁLISE DE DISPENSA POR PAÍS DE NASCIMENTO\", figsize=(15, 10), legend=True, fontsize=12)\n",
        "ax.set_xlabel(\"QUANTIDADE\", fontsize=12)\n",
        "ax.set_ylabel(\"PAIS DE NASCIMENTO\", fontsize=12)\n",
        "plt.show()"
      ],
      "execution_count": 16,
      "outputs": [
        {
          "output_type": "display_data",
          "data": {
            "image/png": "[encoded data removed]",
            "text/plain": [
              "<Figure size 1080x720 with 1 Axes>"
            ]
          },
          "metadata": {
            "tags": [],
            "needs_background": "light"
          }
        }
      ]
    },
    {
      "cell_type": "markdown",
      "metadata": {
        "id": "U8mvluAClioZ"
      },
      "source": [
        "## Analise da relação entre a dispensa e o estado em que o cidadão vive"
      ]
    },
    {
      "cell_type": "code",
      "metadata": {
        "colab": {
          "base_uri": "https://localhost:8080/",
          "height": 464
        },
        "id": "8-Ce-SzGzFuZ",
        "outputId": "5200d182-9b37-44ce-a70b-15d4d40d290f"
      },
      "source": [
        "#Cria um dataframe para armazenar os dados relativos a dispensa e o estado em que vive\n",
        "dados=pd.DataFrame()\n",
        "dados['Sem dispensa']=0\n",
        "dados['Com dispensa']=0\n",
        "\n",
        "dados['Sem dispensa']=df['UF_RESIDENCIA'].where(Analise_dispensa.DISPENSA=='Sem dispensa').value_counts().sort_values(ascending=False).head(10)\n",
        "dados['Com dispensa']=df['UF_RESIDENCIA'].where(Analise_dispensa.DISPENSA=='Com dispensa').value_counts().sort_values(ascending=False).head(10)\n",
        "\n",
        "ax = dados[['Sem dispensa','Com dispensa']].plot(kind='barh', title =\"ANÁLISE DE DISPENSA POR ESTADO DE NASCIMENTO\", figsize=(10, 7), legend=True, fontsize=12)\n",
        "ax.set_xlabel(\"QUANTIDADE\", fontsize=12)\n",
        "ax.set_ylabel(\"ESTADO DE NASCIMENTO\", fontsize=12)\n",
        "plt.show()"
      ],
      "execution_count": 17,
      "outputs": [
        {
          "output_type": "display_data",
          "data": {
            "image/png": "[encoded data removed]",
            "text/plain": [
              "<Figure size 720x504 with 1 Axes>"
            ]
          },
          "metadata": {
            "tags": [],
            "needs_background": "light"
          }
        }
      ]
    },
    {
      "cell_type": "markdown",
      "metadata": {
        "id": "hwkY57zUlioa"
      },
      "source": [
        "## Analise da relação entre a dispensa e o município em que o cidadão vive"
      ]
    },
    {
      "cell_type": "code",
      "metadata": {
        "colab": {
          "base_uri": "https://localhost:8080/",
          "height": 464
        },
        "id": "nAstriPizIeZ",
        "outputId": "187cbaf1-b222-4245-a47e-c63a98954916"
      },
      "source": [
        "#Cria um dataframe para armazenar os dados relativos a dispensa e o estado em que vive\n",
        "dados=pd.DataFrame()\n",
        "dados['Sem dispensa']=0\n",
        "dados['Com dispensa']=0\n",
        "\n",
        "dados['Sem dispensa']=df['MUN_RESIDENCIA'].where(Analise_dispensa.DISPENSA=='Sem dispensa').value_counts().sort_values(ascending=False).head(10)\n",
        "dados['Com dispensa']=df['MUN_RESIDENCIA'].where(Analise_dispensa.DISPENSA=='Com dispensa').value_counts().sort_values(ascending=False).head(10)\n",
        "\n",
        "ax = dados[['Sem dispensa','Com dispensa']].plot(kind='barh', title =\"ANÁLISE DE DISPENSA POR MUNICÍPIO\", figsize=(10, 7), legend=True, fontsize=12)\n",
        "ax.set_xlabel(\"QUANTIDADE\", fontsize=12)\n",
        "ax.set_ylabel(\"MUNICÍPIO DE RESIDENCIA\", fontsize=12)\n",
        "plt.show()"
      ],
      "execution_count": 18,
      "outputs": [
        {
          "output_type": "display_data",
          "data": {
            "image/png": "[encoded data removed]",
            "text/plain": [
              "<Figure size 720x504 with 1 Axes>"
            ]
          },
          "metadata": {
            "tags": [],
            "needs_background": "light"
          }
        }
      ]
    },
    {
      "cell_type": "markdown",
      "metadata": {
        "id": "rSIaSaTllioa"
      },
      "source": [
        "## Analise da relação entre a dispensa e a zona residencial em que o cidadão vive"
      ]
    },
    {
      "cell_type": "code",
      "metadata": {
        "colab": {
          "base_uri": "https://localhost:8080/",
          "height": 464
        },
        "id": "5BU0iy7QzKzJ",
        "outputId": "e0ca0b8c-936d-4360-c04c-759f04144e30"
      },
      "source": [
        "#Cria um dataframe para armazenar os dados relativos a dispensa e o estado em que vive\n",
        "dados=pd.DataFrame()\n",
        "dados['Sem dispensa']=0\n",
        "dados['Com dispensa']=0\n",
        "\n",
        "dados['Sem dispensa']=df['ZONA_RESIDENCIAL'].where(Analise_dispensa.DISPENSA=='Sem dispensa').value_counts().sort_values(ascending=False).head(10)\n",
        "dados['Com dispensa']=df['ZONA_RESIDENCIAL'].where(Analise_dispensa.DISPENSA=='Com dispensa').value_counts().sort_values(ascending=False).head(10)\n",
        "\n",
        "ax = dados[['Sem dispensa','Com dispensa']].plot(kind='barh', title =\"ANÁLISE DE DISPENSA POR ZONA RESIDENCIAL\", figsize=(10, 7), legend=True, fontsize=12)\n",
        "ax.set_xlabel(\"QUANTIDADE\", fontsize=12)\n",
        "ax.set_ylabel(\"TIPO DE ZONA RESIDENCIAL\", fontsize=12)\n",
        "plt.show()"
      ],
      "execution_count": 19,
      "outputs": [
        {
          "output_type": "display_data",
          "data": {
            "image/png": "[encoded data removed]",
            "text/plain": [
              "<Figure size 720x504 with 1 Axes>"
            ]
          },
          "metadata": {
            "tags": [],
            "needs_background": "light"
          }
        }
      ]
    },
    {
      "cell_type": "markdown",
      "metadata": {
        "id": "LQk58Z9eliob"
      },
      "source": [
        "## Analise da variação das dispensas ao longo dos anos"
      ]
    },
    {
      "cell_type": "code",
      "metadata": {
        "colab": {
          "base_uri": "https://localhost:8080/",
          "height": 542
        },
        "id": "uA3ruNIRzMxl",
        "outputId": "dd83893c-ee5b-42ea-ff38-097530efe74c"
      },
      "source": [
        "#Gráfico de barras\n",
        "\n",
        "trace1 = go.Bar(x = ['2007','2008','2009','2010','2011','2012','2013','2014','2015','2016','2017','2018','2019'],\n",
        "                y = df['VINCULACAO_ANO'].where(df.DISPENSA=='Sem dispensa').value_counts().sort_values(ascending=False),\n",
        "                name = 'Sem dispensa',\n",
        "                marker = {'color': '#ee5253'})\n",
        "\n",
        "\n",
        "trace2 = go.Bar(x = ['2007','2008','2009','2010','2011','2012','2013','2014','2015','2016','2017','2018','2019'],\n",
        "                y = df['VINCULACAO_ANO'].where(df.DISPENSA=='Com dispensa').value_counts().sort_values(ascending=False),\n",
        "                name = 'Com dispensa',\n",
        "                marker = {'color': '#341f97'})\n",
        "data = [trace1, trace2]\n",
        "\n",
        "# Criando Layout\n",
        "layout = go.Layout(title='STATUS DAS DISPENSAS DO ANO 2007 AO ANO 2019',\n",
        "                   yaxis={'title':'QUANTIDADE'},\n",
        "                   xaxis={'title': 'ANO '})\n",
        "\n",
        "py.iplot(data)"
      ],
      "execution_count": 20,
      "outputs": [
        {
          "output_type": "display_data",
          "data": {
            "text/html": [
              "<html>\n",
              "<head><meta charset=\"utf-8\" /></head>\n",
              "<body>\n",
              "    <div>\n",
              "            <script src=\"https://cdnjs.cloudflare.com/ajax/libs/mathjax/2.7.5/MathJax.js?config=TeX-AMS-MML_SVG\"></script><script type=\"text/javascript\">if (window.MathJax) {MathJax.Hub.Config({SVG: {font: \"STIX-Web\"}});}</script>\n",
              "                <script type=\"text/javascript\">window.PlotlyConfig = {MathJaxConfig: 'local'};</script>\n",
              "        <script src=\"https://cdn.plot.ly/plotly-latest.min.js\"></script>    \n",
              "            <div id=\"7c90a5bb-ceea-495d-924e-a9e5e1dc6a6c\" class=\"plotly-graph-div\" style=\"height:525px; width:100%;\"></div>\n",
              "            <script type=\"text/javascript\">\n",
              "                \n",
              "                    window.PLOTLYENV=window.PLOTLYENV || {};\n",
              "                    \n",
              "                if (document.getElementById(\"7c90a5bb-ceea-495d-924e-a9e5e1dc6a6c\")) {\n",
              "                    Plotly.newPlot(\n",
              "                        '7c90a5bb-ceea-495d-924e-a9e5e1dc6a6c',\n",
              "                        [{\"marker\": {\"color\": \"#ee5253\"}, \"name\": \"Sem dispensa\", \"type\": \"bar\", \"x\": [\"2007\", \"2008\", \"2009\", \"2010\", \"2011\", \"2012\", \"2013\", \"2014\", \"2015\", \"2016\", \"2017\", \"2018\", \"2019\"], \"y\": [578458, 573089, 560780, 554399, 545262, 543983, 542654, 540067, 536104, 531529, 265802, 162963, 126741]}, {\"marker\": {\"color\": \"#341f97\"}, \"name\": \"Com dispensa\", \"type\": \"bar\", \"x\": [\"2007\", \"2008\", \"2009\", \"2010\", \"2011\", \"2012\", \"2013\", \"2014\", \"2015\", \"2016\", \"2017\", \"2018\", \"2019\"], \"y\": [1468645, 1239085, 1212280, 1211459, 1211293, 1193530, 1192272, 1190874, 1152919, 1070731, 1006601, 865271, 813909]}],\n",
              "                        {\"template\": {\"data\": {\"bar\": [{\"error_x\": {\"color\": \"#2a3f5f\"}, \"error_y\": {\"color\": \"#2a3f5f\"}, \"marker\": {\"line\": {\"color\": \"#E5ECF6\", \"width\": 0.5}}, \"type\": \"bar\"}], \"barpolar\": [{\"marker\": {\"line\": {\"color\": \"#E5ECF6\", \"width\": 0.5}}, \"type\": \"barpolar\"}], \"carpet\": [{\"aaxis\": {\"endlinecolor\": \"#2a3f5f\", \"gridcolor\": \"white\", \"linecolor\": \"white\", \"minorgridcolor\": \"white\", \"startlinecolor\": \"#2a3f5f\"}, \"baxis\": {\"endlinecolor\": \"#2a3f5f\", \"gridcolor\": \"white\", \"linecolor\": \"white\", \"minorgridcolor\": \"white\", \"startlinecolor\": \"#2a3f5f\"}, \"type\": \"carpet\"}], \"choropleth\": [{\"colorbar\": {\"outlinewidth\": 0, \"ticks\": \"\"}, \"type\": \"choropleth\"}], \"contour\": [{\"colorbar\": {\"outlinewidth\": 0, \"ticks\": \"\"}, \"colorscale\": [[0.0, \"#0d0887\"], [0.1111111111111111, \"#46039f\"], [0.2222222222222222, \"#7201a8\"], [0.3333333333333333, \"#9c179e\"], [0.4444444444444444, \"#bd3786\"], [0.5555555555555556, \"#d8576b\"], [0.6666666666666666, \"#ed7953\"], [0.7777777777777778, \"#fb9f3a\"], [0.8888888888888888, \"#fdca26\"], [1.0, \"#f0f921\"]], \"type\": \"contour\"}], \"contourcarpet\": [{\"colorbar\": {\"outlinewidth\": 0, \"ticks\": \"\"}, \"type\": \"contourcarpet\"}], \"heatmap\": [{\"colorbar\": {\"outlinewidth\": 0, \"ticks\": \"\"}, \"colorscale\": [[0.0, \"#0d0887\"], [0.1111111111111111, \"#46039f\"], [0.2222222222222222, \"#7201a8\"], [0.3333333333333333, \"#9c179e\"], [0.4444444444444444, \"#bd3786\"], [0.5555555555555556, \"#d8576b\"], [0.6666666666666666, \"#ed7953\"], [0.7777777777777778, \"#fb9f3a\"], [0.8888888888888888, \"#fdca26\"], [1.0, \"#f0f921\"]], \"type\": \"heatmap\"}], \"heatmapgl\": [{\"colorbar\": {\"outlinewidth\": 0, \"ticks\": \"\"}, \"colorscale\": [[0.0, \"#0d0887\"], [0.1111111111111111, \"#46039f\"], [0.2222222222222222, \"#7201a8\"], [0.3333333333333333, \"#9c179e\"], [0.4444444444444444, \"#bd3786\"], [0.5555555555555556, \"#d8576b\"], [0.6666666666666666, \"#ed7953\"], [0.7777777777777778, \"#fb9f3a\"], [0.8888888888888888, \"#fdca26\"], [1.0, \"#f0f921\"]], \"type\": \"heatmapgl\"}], \"histogram\": [{\"marker\": {\"colorbar\": {\"outlinewidth\": 0, \"ticks\": \"\"}}, \"type\": \"histogram\"}], \"histogram2d\": [{\"colorbar\": {\"outlinewidth\": 0, \"ticks\": \"\"}, \"colorscale\": [[0.0, \"#0d0887\"], [0.1111111111111111, \"#46039f\"], [0.2222222222222222, \"#7201a8\"], [0.3333333333333333, \"#9c179e\"], [0.4444444444444444, \"#bd3786\"], [0.5555555555555556, \"#d8576b\"], [0.6666666666666666, \"#ed7953\"], [0.7777777777777778, \"#fb9f3a\"], [0.8888888888888888, \"#fdca26\"], [1.0, \"#f0f921\"]], \"type\": \"histogram2d\"}], \"histogram2dcontour\": [{\"colorbar\": {\"outlinewidth\": 0, \"ticks\": \"\"}, \"colorscale\": [[0.0, \"#0d0887\"], [0.1111111111111111, \"#46039f\"], [0.2222222222222222, \"#7201a8\"], [0.3333333333333333, \"#9c179e\"], [0.4444444444444444, \"#bd3786\"], [0.5555555555555556, \"#d8576b\"], [0.6666666666666666, \"#ed7953\"], [0.7777777777777778, \"#fb9f3a\"], [0.8888888888888888, \"#fdca26\"], [1.0, \"#f0f921\"]], \"type\": \"histogram2dcontour\"}], \"mesh3d\": [{\"colorbar\": {\"outlinewidth\": 0, \"ticks\": \"\"}, \"type\": \"mesh3d\"}], \"parcoords\": [{\"line\": {\"colorbar\": {\"outlinewidth\": 0, \"ticks\": \"\"}}, \"type\": \"parcoords\"}], \"pie\": [{\"automargin\": true, \"type\": \"pie\"}], \"scatter\": [{\"marker\": {\"colorbar\": {\"outlinewidth\": 0, \"ticks\": \"\"}}, \"type\": \"scatter\"}], \"scatter3d\": [{\"line\": {\"colorbar\": {\"outlinewidth\": 0, \"ticks\": \"\"}}, \"marker\": {\"colorbar\": {\"outlinewidth\": 0, \"ticks\": \"\"}}, \"type\": \"scatter3d\"}], \"scattercarpet\": [{\"marker\": {\"colorbar\": {\"outlinewidth\": 0, \"ticks\": \"\"}}, \"type\": \"scattercarpet\"}], \"scattergeo\": [{\"marker\": {\"colorbar\": {\"outlinewidth\": 0, \"ticks\": \"\"}}, \"type\": \"scattergeo\"}], \"scattergl\": [{\"marker\": {\"colorbar\": {\"outlinewidth\": 0, \"ticks\": \"\"}}, \"type\": \"scattergl\"}], \"scattermapbox\": [{\"marker\": {\"colorbar\": {\"outlinewidth\": 0, \"ticks\": \"\"}}, \"type\": \"scattermapbox\"}], \"scatterpolar\": [{\"marker\": {\"colorbar\": {\"outlinewidth\": 0, \"ticks\": \"\"}}, \"type\": \"scatterpolar\"}], \"scatterpolargl\": [{\"marker\": {\"colorbar\": {\"outlinewidth\": 0, \"ticks\": \"\"}}, \"type\": \"scatterpolargl\"}], \"scatterternary\": [{\"marker\": {\"colorbar\": {\"outlinewidth\": 0, \"ticks\": \"\"}}, \"type\": \"scatterternary\"}], \"surface\": [{\"colorbar\": {\"outlinewidth\": 0, \"ticks\": \"\"}, \"colorscale\": [[0.0, \"#0d0887\"], [0.1111111111111111, \"#46039f\"], [0.2222222222222222, \"#7201a8\"], [0.3333333333333333, \"#9c179e\"], [0.4444444444444444, \"#bd3786\"], [0.5555555555555556, \"#d8576b\"], [0.6666666666666666, \"#ed7953\"], [0.7777777777777778, \"#fb9f3a\"], [0.8888888888888888, \"#fdca26\"], [1.0, \"#f0f921\"]], \"type\": \"surface\"}], \"table\": [{\"cells\": {\"fill\": {\"color\": \"#EBF0F8\"}, \"line\": {\"color\": \"white\"}}, \"header\": {\"fill\": {\"color\": \"#C8D4E3\"}, \"line\": {\"color\": \"white\"}}, \"type\": \"table\"}]}, \"layout\": {\"annotationdefaults\": {\"arrowcolor\": \"#2a3f5f\", \"arrowhead\": 0, \"arrowwidth\": 1}, \"coloraxis\": {\"colorbar\": {\"outlinewidth\": 0, \"ticks\": \"\"}}, \"colorscale\": {\"diverging\": [[0, \"#8e0152\"], [0.1, \"#c51b7d\"], [0.2, \"#de77ae\"], [0.3, \"#f1b6da\"], [0.4, \"#fde0ef\"], [0.5, \"#f7f7f7\"], [0.6, \"#e6f5d0\"], [0.7, \"#b8e186\"], [0.8, \"#7fbc41\"], [0.9, \"#4d9221\"], [1, \"#276419\"]], \"sequential\": [[0.0, \"#0d0887\"], [0.1111111111111111, \"#46039f\"], [0.2222222222222222, \"#7201a8\"], [0.3333333333333333, \"#9c179e\"], [0.4444444444444444, \"#bd3786\"], [0.5555555555555556, \"#d8576b\"], [0.6666666666666666, \"#ed7953\"], [0.7777777777777778, \"#fb9f3a\"], [0.8888888888888888, \"#fdca26\"], [1.0, \"#f0f921\"]], \"sequentialminus\": [[0.0, \"#0d0887\"], [0.1111111111111111, \"#46039f\"], [0.2222222222222222, \"#7201a8\"], [0.3333333333333333, \"#9c179e\"], [0.4444444444444444, \"#bd3786\"], [0.5555555555555556, \"#d8576b\"], [0.6666666666666666, \"#ed7953\"], [0.7777777777777778, \"#fb9f3a\"], [0.8888888888888888, \"#fdca26\"], [1.0, \"#f0f921\"]]}, \"colorway\": [\"#636efa\", \"#EF553B\", \"#00cc96\", \"#ab63fa\", \"#FFA15A\", \"#19d3f3\", \"#FF6692\", \"#B6E880\", \"#FF97FF\", \"#FECB52\"], \"font\": {\"color\": \"#2a3f5f\"}, \"geo\": {\"bgcolor\": \"white\", \"lakecolor\": \"white\", \"landcolor\": \"#E5ECF6\", \"showlakes\": true, \"showland\": true, \"subunitcolor\": \"white\"}, \"hoverlabel\": {\"align\": \"left\"}, \"hovermode\": \"closest\", \"mapbox\": {\"style\": \"light\"}, \"paper_bgcolor\": \"white\", \"plot_bgcolor\": \"#E5ECF6\", \"polar\": {\"angularaxis\": {\"gridcolor\": \"white\", \"linecolor\": \"white\", \"ticks\": \"\"}, \"bgcolor\": \"#E5ECF6\", \"radialaxis\": {\"gridcolor\": \"white\", \"linecolor\": \"white\", \"ticks\": \"\"}}, \"scene\": {\"xaxis\": {\"backgroundcolor\": \"#E5ECF6\", \"gridcolor\": \"white\", \"gridwidth\": 2, \"linecolor\": \"white\", \"showbackground\": true, \"ticks\": \"\", \"zerolinecolor\": \"white\"}, \"yaxis\": {\"backgroundcolor\": \"#E5ECF6\", \"gridcolor\": \"white\", \"gridwidth\": 2, \"linecolor\": \"white\", \"showbackground\": true, \"ticks\": \"\", \"zerolinecolor\": \"white\"}, \"zaxis\": {\"backgroundcolor\": \"#E5ECF6\", \"gridcolor\": \"white\", \"gridwidth\": 2, \"linecolor\": \"white\", \"showbackground\": true, \"ticks\": \"\", \"zerolinecolor\": \"white\"}}, \"shapedefaults\": {\"line\": {\"color\": \"#2a3f5f\"}}, \"ternary\": {\"aaxis\": {\"gridcolor\": \"white\", \"linecolor\": \"white\", \"ticks\": \"\"}, \"baxis\": {\"gridcolor\": \"white\", \"linecolor\": \"white\", \"ticks\": \"\"}, \"bgcolor\": \"#E5ECF6\", \"caxis\": {\"gridcolor\": \"white\", \"linecolor\": \"white\", \"ticks\": \"\"}}, \"title\": {\"x\": 0.05}, \"xaxis\": {\"automargin\": true, \"gridcolor\": \"white\", \"linecolor\": \"white\", \"ticks\": \"\", \"title\": {\"standoff\": 15}, \"zerolinecolor\": \"white\", \"zerolinewidth\": 2}, \"yaxis\": {\"automargin\": true, \"gridcolor\": \"white\", \"linecolor\": \"white\", \"ticks\": \"\", \"title\": {\"standoff\": 15}, \"zerolinecolor\": \"white\", \"zerolinewidth\": 2}}}},\n",
              "                        {\"responsive\": true}\n",
              "                    ).then(function(){\n",
              "                            \n",
              "var gd = document.getElementById('7c90a5bb-ceea-495d-924e-a9e5e1dc6a6c');\n",
              "var x = new MutationObserver(function (mutations, observer) {{\n",
              "        var display = window.getComputedStyle(gd).display;\n",
              "        if (!display || display === 'none') {{\n",
              "            console.log([gd, 'removed!']);\n",
              "            Plotly.purge(gd);\n",
              "            observer.disconnect();\n",
              "        }}\n",
              "}});\n",
              "\n",
              "// Listen for the removal of the full notebook cells\n",
              "var notebookContainer = gd.closest('#notebook-container');\n",
              "if (notebookContainer) {{\n",
              "    x.observe(notebookContainer, {childList: true});\n",
              "}}\n",
              "\n",
              "// Listen for the clearing of the current output cell\n",
              "var outputEl = gd.closest('.output');\n",
              "if (outputEl) {{\n",
              "    x.observe(outputEl, {childList: true});\n",
              "}}\n",
              "\n",
              "                        })\n",
              "                };\n",
              "                \n",
              "            </script>\n",
              "        </div>\n",
              "</body>\n",
              "</html>"
            ]
          },
          "metadata": {
            "tags": []
          }
        }
      ]
    },
    {
      "cell_type": "code",
      "metadata": {
        "colab": {
          "base_uri": "https://localhost:8080/",
          "height": 542
        },
        "id": "BJQYZzJzzPw6",
        "outputId": "48fe45d8-6fba-4683-99ec-3dd57b49747c"
      },
      "source": [
        "#Gráfico de linhas\n",
        "\n",
        "trace1 = go.Scatter(x = ['2007','2008','2009','2010','2011','2012','2013','2014','2015','2016','2017','2018','2019'],\n",
        "                y = df['VINCULACAO_ANO'].where(df.DISPENSA=='Sem dispensa').value_counts().sort_values(ascending=False),\n",
        "                mode = 'markers+lines',\n",
        "                name = 'Sem dispensa',\n",
        "                marker = {'color': '#ee5253'})\n",
        "\n",
        "\n",
        "trace2 = go.Scatter(x = ['2007','2008','2009','2010','2011','2012','2013','2014','2015','2016','2017','2018','2019'],\n",
        "                y = df['VINCULACAO_ANO'].where(df.DISPENSA=='Com dispensa').value_counts().sort_values(ascending=False),\n",
        "                mode = 'markers+lines',\n",
        "                name = 'Com dispensa',\n",
        "                marker = {'color': '#341f97'})\n",
        "\n",
        "\n",
        "data = [trace1, trace2]\n",
        "\n",
        "# Criando Layout\n",
        "layout = go.Layout(title='STATUS DAS DISPENSAS DO ANO 2007 AO ANO 2019',\n",
        "                   yaxis={'title':'QUANTIDADE'},\n",
        "                   xaxis={'title': 'ANO '})\n",
        "\n",
        "\n",
        "# Criando figura que será exibida\n",
        "fig = go.Figure(data=data, layout=layout)\n",
        "\n",
        "py.iplot(data)"
      ],
      "execution_count": 21,
      "outputs": [
        {
          "output_type": "display_data",
          "data": {
            "text/html": [
              "<html>\n",
              "<head><meta charset=\"utf-8\" /></head>\n",
              "<body>\n",
              "    <div>\n",
              "            <script src=\"https://cdnjs.cloudflare.com/ajax/libs/mathjax/2.7.5/MathJax.js?config=TeX-AMS-MML_SVG\"></script><script type=\"text/javascript\">if (window.MathJax) {MathJax.Hub.Config({SVG: {font: \"STIX-Web\"}});}</script>\n",
              "                <script type=\"text/javascript\">window.PlotlyConfig = {MathJaxConfig: 'local'};</script>\n",
              "        <script src=\"https://cdn.plot.ly/plotly-latest.min.js\"></script>    \n",
              "            <div id=\"1d42a476-c8fc-4d59-8fde-bf29a4bde50a\" class=\"plotly-graph-div\" style=\"height:525px; width:100%;\"></div>\n",
              "            <script type=\"text/javascript\">\n",
              "                \n",
              "                    window.PLOTLYENV=window.PLOTLYENV || {};\n",
              "                    \n",
              "                if (document.getElementById(\"1d42a476-c8fc-4d59-8fde-bf29a4bde50a\")) {\n",
              "                    Plotly.newPlot(\n",
              "                        '1d42a476-c8fc-4d59-8fde-bf29a4bde50a',\n",
              "                        [{\"marker\": {\"color\": \"#ee5253\"}, \"mode\": \"markers+lines\", \"name\": \"Sem dispensa\", \"type\": \"scatter\", \"x\": [\"2007\", \"2008\", \"2009\", \"2010\", \"2011\", \"2012\", \"2013\", \"2014\", \"2015\", \"2016\", \"2017\", \"2018\", \"2019\"], \"y\": [578458, 573089, 560780, 554399, 545262, 543983, 542654, 540067, 536104, 531529, 265802, 162963, 126741]}, {\"marker\": {\"color\": \"#341f97\"}, \"mode\": \"markers+lines\", \"name\": \"Com dispensa\", \"type\": \"scatter\", \"x\": [\"2007\", \"2008\", \"2009\", \"2010\", \"2011\", \"2012\", \"2013\", \"2014\", \"2015\", \"2016\", \"2017\", \"2018\", \"2019\"], \"y\": [1468645, 1239085, 1212280, 1211459, 1211293, 1193530, 1192272, 1190874, 1152919, 1070731, 1006601, 865271, 813909]}],\n",
              "                        {\"template\": {\"data\": {\"bar\": [{\"error_x\": {\"color\": \"#2a3f5f\"}, \"error_y\": {\"color\": \"#2a3f5f\"}, \"marker\": {\"line\": {\"color\": \"#E5ECF6\", \"width\": 0.5}}, \"type\": \"bar\"}], \"barpolar\": [{\"marker\": {\"line\": {\"color\": \"#E5ECF6\", \"width\": 0.5}}, \"type\": \"barpolar\"}], \"carpet\": [{\"aaxis\": {\"endlinecolor\": \"#2a3f5f\", \"gridcolor\": \"white\", \"linecolor\": \"white\", \"minorgridcolor\": \"white\", \"startlinecolor\": \"#2a3f5f\"}, \"baxis\": {\"endlinecolor\": \"#2a3f5f\", \"gridcolor\": \"white\", \"linecolor\": \"white\", \"minorgridcolor\": \"white\", \"startlinecolor\": \"#2a3f5f\"}, \"type\": \"carpet\"}], \"choropleth\": [{\"colorbar\": {\"outlinewidth\": 0, \"ticks\": \"\"}, \"type\": \"choropleth\"}], \"contour\": [{\"colorbar\": {\"outlinewidth\": 0, \"ticks\": \"\"}, \"colorscale\": [[0.0, \"#0d0887\"], [0.1111111111111111, \"#46039f\"], [0.2222222222222222, \"#7201a8\"], [0.3333333333333333, \"#9c179e\"], [0.4444444444444444, \"#bd3786\"], [0.5555555555555556, \"#d8576b\"], [0.6666666666666666, \"#ed7953\"], [0.7777777777777778, \"#fb9f3a\"], [0.8888888888888888, \"#fdca26\"], [1.0, \"#f0f921\"]], \"type\": \"contour\"}], \"contourcarpet\": [{\"colorbar\": {\"outlinewidth\": 0, \"ticks\": \"\"}, \"type\": \"contourcarpet\"}], \"heatmap\": [{\"colorbar\": {\"outlinewidth\": 0, \"ticks\": \"\"}, \"colorscale\": [[0.0, \"#0d0887\"], [0.1111111111111111, \"#46039f\"], [0.2222222222222222, \"#7201a8\"], [0.3333333333333333, \"#9c179e\"], [0.4444444444444444, \"#bd3786\"], [0.5555555555555556, \"#d8576b\"], [0.6666666666666666, \"#ed7953\"], [0.7777777777777778, \"#fb9f3a\"], [0.8888888888888888, \"#fdca26\"], [1.0, \"#f0f921\"]], \"type\": \"heatmap\"}], \"heatmapgl\": [{\"colorbar\": {\"outlinewidth\": 0, \"ticks\": \"\"}, \"colorscale\": [[0.0, \"#0d0887\"], [0.1111111111111111, \"#46039f\"], [0.2222222222222222, \"#7201a8\"], [0.3333333333333333, \"#9c179e\"], [0.4444444444444444, \"#bd3786\"], [0.5555555555555556, \"#d8576b\"], [0.6666666666666666, \"#ed7953\"], [0.7777777777777778, \"#fb9f3a\"], [0.8888888888888888, \"#fdca26\"], [1.0, \"#f0f921\"]], \"type\": \"heatmapgl\"}], \"histogram\": [{\"marker\": {\"colorbar\": {\"outlinewidth\": 0, \"ticks\": \"\"}}, \"type\": \"histogram\"}], \"histogram2d\": [{\"colorbar\": {\"outlinewidth\": 0, \"ticks\": \"\"}, \"colorscale\": [[0.0, \"#0d0887\"], [0.1111111111111111, \"#46039f\"], [0.2222222222222222, \"#7201a8\"], [0.3333333333333333, \"#9c179e\"], [0.4444444444444444, \"#bd3786\"], [0.5555555555555556, \"#d8576b\"], [0.6666666666666666, \"#ed7953\"], [0.7777777777777778, \"#fb9f3a\"], [0.8888888888888888, \"#fdca26\"], [1.0, \"#f0f921\"]], \"type\": \"histogram2d\"}], \"histogram2dcontour\": [{\"colorbar\": {\"outlinewidth\": 0, \"ticks\": \"\"}, \"colorscale\": [[0.0, \"#0d0887\"], [0.1111111111111111, \"#46039f\"], [0.2222222222222222, \"#7201a8\"], [0.3333333333333333, \"#9c179e\"], [0.4444444444444444, \"#bd3786\"], [0.5555555555555556, \"#d8576b\"], [0.6666666666666666, \"#ed7953\"], [0.7777777777777778, \"#fb9f3a\"], [0.8888888888888888, \"#fdca26\"], [1.0, \"#f0f921\"]], \"type\": \"histogram2dcontour\"}], \"mesh3d\": [{\"colorbar\": {\"outlinewidth\": 0, \"ticks\": \"\"}, \"type\": \"mesh3d\"}], \"parcoords\": [{\"line\": {\"colorbar\": {\"outlinewidth\": 0, \"ticks\": \"\"}}, \"type\": \"parcoords\"}], \"pie\": [{\"automargin\": true, \"type\": \"pie\"}], \"scatter\": [{\"marker\": {\"colorbar\": {\"outlinewidth\": 0, \"ticks\": \"\"}}, \"type\": \"scatter\"}], \"scatter3d\": [{\"line\": {\"colorbar\": {\"outlinewidth\": 0, \"ticks\": \"\"}}, \"marker\": {\"colorbar\": {\"outlinewidth\": 0, \"ticks\": \"\"}}, \"type\": \"scatter3d\"}], \"scattercarpet\": [{\"marker\": {\"colorbar\": {\"outlinewidth\": 0, \"ticks\": \"\"}}, \"type\": \"scattercarpet\"}], \"scattergeo\": [{\"marker\": {\"colorbar\": {\"outlinewidth\": 0, \"ticks\": \"\"}}, \"type\": \"scattergeo\"}], \"scattergl\": [{\"marker\": {\"colorbar\": {\"outlinewidth\": 0, \"ticks\": \"\"}}, \"type\": \"scattergl\"}], \"scattermapbox\": [{\"marker\": {\"colorbar\": {\"outlinewidth\": 0, \"ticks\": \"\"}}, \"type\": \"scattermapbox\"}], \"scatterpolar\": [{\"marker\": {\"colorbar\": {\"outlinewidth\": 0, \"ticks\": \"\"}}, \"type\": \"scatterpolar\"}], \"scatterpolargl\": [{\"marker\": {\"colorbar\": {\"outlinewidth\": 0, \"ticks\": \"\"}}, \"type\": \"scatterpolargl\"}], \"scatterternary\": [{\"marker\": {\"colorbar\": {\"outlinewidth\": 0, \"ticks\": \"\"}}, \"type\": \"scatterternary\"}], \"surface\": [{\"colorbar\": {\"outlinewidth\": 0, \"ticks\": \"\"}, \"colorscale\": [[0.0, \"#0d0887\"], [0.1111111111111111, \"#46039f\"], [0.2222222222222222, \"#7201a8\"], [0.3333333333333333, \"#9c179e\"], [0.4444444444444444, \"#bd3786\"], [0.5555555555555556, \"#d8576b\"], [0.6666666666666666, \"#ed7953\"], [0.7777777777777778, \"#fb9f3a\"], [0.8888888888888888, \"#fdca26\"], [1.0, \"#f0f921\"]], \"type\": \"surface\"}], \"table\": [{\"cells\": {\"fill\": {\"color\": \"#EBF0F8\"}, \"line\": {\"color\": \"white\"}}, \"header\": {\"fill\": {\"color\": \"#C8D4E3\"}, \"line\": {\"color\": \"white\"}}, \"type\": \"table\"}]}, \"layout\": {\"annotationdefaults\": {\"arrowcolor\": \"#2a3f5f\", \"arrowhead\": 0, \"arrowwidth\": 1}, \"coloraxis\": {\"colorbar\": {\"outlinewidth\": 0, \"ticks\": \"\"}}, \"colorscale\": {\"diverging\": [[0, \"#8e0152\"], [0.1, \"#c51b7d\"], [0.2, \"#de77ae\"], [0.3, \"#f1b6da\"], [0.4, \"#fde0ef\"], [0.5, \"#f7f7f7\"], [0.6, \"#e6f5d0\"], [0.7, \"#b8e186\"], [0.8, \"#7fbc41\"], [0.9, \"#4d9221\"], [1, \"#276419\"]], \"sequential\": [[0.0, \"#0d0887\"], [0.1111111111111111, \"#46039f\"], [0.2222222222222222, \"#7201a8\"], [0.3333333333333333, \"#9c179e\"], [0.4444444444444444, \"#bd3786\"], [0.5555555555555556, \"#d8576b\"], [0.6666666666666666, \"#ed7953\"], [0.7777777777777778, \"#fb9f3a\"], [0.8888888888888888, \"#fdca26\"], [1.0, \"#f0f921\"]], \"sequentialminus\": [[0.0, \"#0d0887\"], [0.1111111111111111, \"#46039f\"], [0.2222222222222222, \"#7201a8\"], [0.3333333333333333, \"#9c179e\"], [0.4444444444444444, \"#bd3786\"], [0.5555555555555556, \"#d8576b\"], [0.6666666666666666, \"#ed7953\"], [0.7777777777777778, \"#fb9f3a\"], [0.8888888888888888, \"#fdca26\"], [1.0, \"#f0f921\"]]}, \"colorway\": [\"#636efa\", \"#EF553B\", \"#00cc96\", \"#ab63fa\", \"#FFA15A\", \"#19d3f3\", \"#FF6692\", \"#B6E880\", \"#FF97FF\", \"#FECB52\"], \"font\": {\"color\": \"#2a3f5f\"}, \"geo\": {\"bgcolor\": \"white\", \"lakecolor\": \"white\", \"landcolor\": \"#E5ECF6\", \"showlakes\": true, \"showland\": true, \"subunitcolor\": \"white\"}, \"hoverlabel\": {\"align\": \"left\"}, \"hovermode\": \"closest\", \"mapbox\": {\"style\": \"light\"}, \"paper_bgcolor\": \"white\", \"plot_bgcolor\": \"#E5ECF6\", \"polar\": {\"angularaxis\": {\"gridcolor\": \"white\", \"linecolor\": \"white\", \"ticks\": \"\"}, \"bgcolor\": \"#E5ECF6\", \"radialaxis\": {\"gridcolor\": \"white\", \"linecolor\": \"white\", \"ticks\": \"\"}}, \"scene\": {\"xaxis\": {\"backgroundcolor\": \"#E5ECF6\", \"gridcolor\": \"white\", \"gridwidth\": 2, \"linecolor\": \"white\", \"showbackground\": true, \"ticks\": \"\", \"zerolinecolor\": \"white\"}, \"yaxis\": {\"backgroundcolor\": \"#E5ECF6\", \"gridcolor\": \"white\", \"gridwidth\": 2, \"linecolor\": \"white\", \"showbackground\": true, \"ticks\": \"\", \"zerolinecolor\": \"white\"}, \"zaxis\": {\"backgroundcolor\": \"#E5ECF6\", \"gridcolor\": \"white\", \"gridwidth\": 2, \"linecolor\": \"white\", \"showbackground\": true, \"ticks\": \"\", \"zerolinecolor\": \"white\"}}, \"shapedefaults\": {\"line\": {\"color\": \"#2a3f5f\"}}, \"ternary\": {\"aaxis\": {\"gridcolor\": \"white\", \"linecolor\": \"white\", \"ticks\": \"\"}, \"baxis\": {\"gridcolor\": \"white\", \"linecolor\": \"white\", \"ticks\": \"\"}, \"bgcolor\": \"#E5ECF6\", \"caxis\": {\"gridcolor\": \"white\", \"linecolor\": \"white\", \"ticks\": \"\"}}, \"title\": {\"x\": 0.05}, \"xaxis\": {\"automargin\": true, \"gridcolor\": \"white\", \"linecolor\": \"white\", \"ticks\": \"\", \"title\": {\"standoff\": 15}, \"zerolinecolor\": \"white\", \"zerolinewidth\": 2}, \"yaxis\": {\"automargin\": true, \"gridcolor\": \"white\", \"linecolor\": \"white\", \"ticks\": \"\", \"title\": {\"standoff\": 15}, \"zerolinecolor\": \"white\", \"zerolinewidth\": 2}}}},\n",
              "                        {\"responsive\": true}\n",
              "                    ).then(function(){\n",
              "                            \n",
              "var gd = document.getElementById('1d42a476-c8fc-4d59-8fde-bf29a4bde50a');\n",
              "var x = new MutationObserver(function (mutations, observer) {{\n",
              "        var display = window.getComputedStyle(gd).display;\n",
              "        if (!display || display === 'none') {{\n",
              "            console.log([gd, 'removed!']);\n",
              "            Plotly.purge(gd);\n",
              "            observer.disconnect();\n",
              "        }}\n",
              "}});\n",
              "\n",
              "// Listen for the removal of the full notebook cells\n",
              "var notebookContainer = gd.closest('#notebook-container');\n",
              "if (notebookContainer) {{\n",
              "    x.observe(notebookContainer, {childList: true});\n",
              "}}\n",
              "\n",
              "// Listen for the clearing of the current output cell\n",
              "var outputEl = gd.closest('.output');\n",
              "if (outputEl) {{\n",
              "    x.observe(outputEl, {childList: true});\n",
              "}}\n",
              "\n",
              "                        })\n",
              "                };\n",
              "                \n",
              "            </script>\n",
              "        </div>\n",
              "</body>\n",
              "</html>"
            ]
          },
          "metadata": {
            "tags": []
          }
        }
      ]
    }
  ]
}