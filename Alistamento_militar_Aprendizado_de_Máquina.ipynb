{
  "nbformat": 4,
  "nbformat_minor": 0,
  "metadata": {
    "colab": {
      "name": "Alistamento militar - Aprendizado de Máquina.ipynb",
      "provenance": [],
      "collapsed_sections": [
        "CzJQumj12gvr",
        "eXg_5dN-3EHj",
        "ukD4np6PvVDG",
        "5qaPEpPFAsAk",
        "v7J7qJKHBulO"
      ]
    },
    "kernelspec": {
      "display_name": "Python 3",
      "name": "python3"
    }
  },
  "cells": [
    {
      "cell_type": "markdown",
      "metadata": {
        "id": "ZoBwZZjA_sVu"
      },
      "source": [
        "### Alistamento militar - Aprendizado de Máquina"
      ]
    },
    {
      "cell_type": "markdown",
      "metadata": {
        "id": "Gbzdyjr77TOT"
      },
      "source": [
        "Neste notebook é executado o treino dos classificadores Decision Tree e Random Forest. A análise gráfica pode ser encontrada em outro notebook no [github do projeto](https://github.com/rafaelgard/Data-Science-Aplicado-ao-Alistamento-Militar)"
      ]
    },
    {
      "cell_type": "code",
      "metadata": {
        "colab": {
          "base_uri": "https://localhost:8080/"
        },
        "id": "dkQ0qQ-D_nbo",
        "outputId": "2dbb6ab3-d9e7-48ec-e89b-c28abde32591"
      },
      "source": [
        "#Faz a ligação com o banco de dados do Google\n",
        "from google.colab import drive\n",
        "drive.mount('/content/drive',force_remount=True)"
      ],
      "execution_count": 1,
      "outputs": [
        {
          "output_type": "stream",
          "text": [
            "Mounted at /content/drive\n"
          ],
          "name": "stdout"
        }
      ]
    },
    {
      "cell_type": "code",
      "metadata": {
        "id": "u5A0R65-_yoS"
      },
      "source": [
        "import pandas as pd\n",
        "import datetime\n",
        "import matplotlib.pyplot as plt\n",
        "import seaborn as sns\n",
        "import sklearn\n",
        "import numpy as np\n",
        "import plotly.offline as py\n",
        "import plotly.graph_objs as go\n",
        "import matplotlib"
      ],
      "execution_count": 2,
      "outputs": []
    },
    {
      "cell_type": "code",
      "metadata": {
        "colab": {
          "base_uri": "https://localhost:8080/"
        },
        "id": "ignOgxks_2Xh",
        "outputId": "a425ad3e-d2be-4cab-834a-abc2e415b1dd"
      },
      "source": [
        "%%time\n",
        "#Importando o dataframe inicial atualizado\n",
        "\n",
        "df = pd.read_csv(\"/content/drive/MyDrive/Colab Notebooks/Alistamento Militar/df_atualizado_utf8.csv\",sep=\",\",encoding='UTF-8')"
      ],
      "execution_count": 3,
      "outputs": [
        {
          "output_type": "stream",
          "text": [
            "CPU times: user 29 s, sys: 5.42 s, total: 34.4 s\n",
            "Wall time: 48.8 s\n"
          ],
          "name": "stdout"
        }
      ]
    },
    {
      "cell_type": "code",
      "metadata": {
        "id": "N5Inu3Vq_4hx"
      },
      "source": [
        "# Define a coluna indice como índice da tabela, permitindo assim a realização da busca usando a função df.loc\n",
        "df=df.set_index('ÍNDICE')\n"
      ],
      "execution_count": 4,
      "outputs": []
    },
    {
      "cell_type": "code",
      "metadata": {
        "colab": {
          "base_uri": "https://localhost:8080/",
          "height": 225
        },
        "id": "NiXmYNpU_7Mx",
        "outputId": "7442a6fb-5b9b-42b1-bf5f-be28514ad98e"
      },
      "source": [
        "df.head()"
      ],
      "execution_count": 5,
      "outputs": [
        {
          "output_type": "execute_result",
          "data": {
            "text/html": [
              "<div>\n",
              "<style scoped>\n",
              "    .dataframe tbody tr th:only-of-type {\n",
              "        vertical-align: middle;\n",
              "    }\n",
              "\n",
              "    .dataframe tbody tr th {\n",
              "        vertical-align: top;\n",
              "    }\n",
              "\n",
              "    .dataframe thead th {\n",
              "        text-align: right;\n",
              "    }\n",
              "</style>\n",
              "<table border=\"1\" class=\"dataframe\">\n",
              "  <thead>\n",
              "    <tr style=\"text-align: right;\">\n",
              "      <th></th>\n",
              "      <th>ANO_NASCIMENTO</th>\n",
              "      <th>PAIS_NASCIMENTO</th>\n",
              "      <th>ESTADO_CIVIL</th>\n",
              "      <th>ESCOLARIDADE</th>\n",
              "      <th>VINCULACAO_ANO</th>\n",
              "      <th>DISPENSA</th>\n",
              "      <th>ZONA_RESIDENCIAL</th>\n",
              "      <th>MUN_RESIDENCIA</th>\n",
              "      <th>UF_RESIDENCIA</th>\n",
              "      <th>PAIS_RESIDENCIA</th>\n",
              "      <th>IDADE</th>\n",
              "    </tr>\n",
              "    <tr>\n",
              "      <th>ÍNDICE</th>\n",
              "      <th></th>\n",
              "      <th></th>\n",
              "      <th></th>\n",
              "      <th></th>\n",
              "      <th></th>\n",
              "      <th></th>\n",
              "      <th></th>\n",
              "      <th></th>\n",
              "      <th></th>\n",
              "      <th></th>\n",
              "      <th></th>\n",
              "    </tr>\n",
              "  </thead>\n",
              "  <tbody>\n",
              "    <tr>\n",
              "      <th>0</th>\n",
              "      <td>1989</td>\n",
              "      <td>BRASIL</td>\n",
              "      <td>Solteiro</td>\n",
              "      <td>Ensino Médio Completo</td>\n",
              "      <td>2007</td>\n",
              "      <td>Sem dispensa</td>\n",
              "      <td>Urbana</td>\n",
              "      <td>PIRASSUNUNGA</td>\n",
              "      <td>SP</td>\n",
              "      <td>BRASIL</td>\n",
              "      <td>18</td>\n",
              "    </tr>\n",
              "    <tr>\n",
              "      <th>1</th>\n",
              "      <td>1989</td>\n",
              "      <td>BRASIL</td>\n",
              "      <td>Casado</td>\n",
              "      <td>Ensino Superior Completo</td>\n",
              "      <td>2007</td>\n",
              "      <td>Sem dispensa</td>\n",
              "      <td>Urbana</td>\n",
              "      <td>SAO PAULO</td>\n",
              "      <td>SP</td>\n",
              "      <td>BRASIL</td>\n",
              "      <td>18</td>\n",
              "    </tr>\n",
              "    <tr>\n",
              "      <th>2</th>\n",
              "      <td>1989</td>\n",
              "      <td>BRASIL</td>\n",
              "      <td>Solteiro</td>\n",
              "      <td>Ensino Médio Completo</td>\n",
              "      <td>2007</td>\n",
              "      <td>Sem dispensa</td>\n",
              "      <td>Urbana</td>\n",
              "      <td>CATANDUVA</td>\n",
              "      <td>SP</td>\n",
              "      <td>BRASIL</td>\n",
              "      <td>18</td>\n",
              "    </tr>\n",
              "    <tr>\n",
              "      <th>3</th>\n",
              "      <td>1989</td>\n",
              "      <td>BRASIL</td>\n",
              "      <td>Solteiro</td>\n",
              "      <td>Ensino Médio Completo</td>\n",
              "      <td>2007</td>\n",
              "      <td>Sem dispensa</td>\n",
              "      <td>Urbana</td>\n",
              "      <td>PIRAJUI</td>\n",
              "      <td>SP</td>\n",
              "      <td>BRASIL</td>\n",
              "      <td>18</td>\n",
              "    </tr>\n",
              "    <tr>\n",
              "      <th>4</th>\n",
              "      <td>1989</td>\n",
              "      <td>BRASIL</td>\n",
              "      <td>Solteiro</td>\n",
              "      <td>Ensino Médio Completo</td>\n",
              "      <td>2007</td>\n",
              "      <td>Sem dispensa</td>\n",
              "      <td>Urbana</td>\n",
              "      <td>PIRAJUI</td>\n",
              "      <td>SP</td>\n",
              "      <td>BRASIL</td>\n",
              "      <td>18</td>\n",
              "    </tr>\n",
              "  </tbody>\n",
              "</table>\n",
              "</div>"
            ],
            "text/plain": [
              "        ANO_NASCIMENTO PAIS_NASCIMENTO  ... PAIS_RESIDENCIA IDADE\n",
              "ÍNDICE                                  ...                      \n",
              "0                 1989          BRASIL  ...          BRASIL    18\n",
              "1                 1989          BRASIL  ...          BRASIL    18\n",
              "2                 1989          BRASIL  ...          BRASIL    18\n",
              "3                 1989          BRASIL  ...          BRASIL    18\n",
              "4                 1989          BRASIL  ...          BRASIL    18\n",
              "\n",
              "[5 rows x 11 columns]"
            ]
          },
          "metadata": {
            "tags": []
          },
          "execution_count": 5
        }
      ]
    },
    {
      "cell_type": "markdown",
      "metadata": {
        "id": "LQGa0qyhACv4"
      },
      "source": [
        "# Analisando os dados"
      ]
    },
    {
      "cell_type": "code",
      "metadata": {
        "colab": {
          "base_uri": "https://localhost:8080/"
        },
        "id": "Hcn04zQ-JJm6",
        "outputId": "2ec5df2a-f51c-47ab-9cd3-3b7f51e516d5"
      },
      "source": [
        "#Verificando a existencia de dados nulos\n",
        "print(\"Dados nulos:\")\n",
        "print(df.isnull().sum())"
      ],
      "execution_count": 6,
      "outputs": [
        {
          "output_type": "stream",
          "text": [
            "Dados nulos:\n",
            "ANO_NASCIMENTO      0\n",
            "PAIS_NASCIMENTO     0\n",
            "ESTADO_CIVIL        0\n",
            "ESCOLARIDADE        0\n",
            "VINCULACAO_ANO      0\n",
            "DISPENSA            0\n",
            "ZONA_RESIDENCIAL    0\n",
            "MUN_RESIDENCIA      0\n",
            "UF_RESIDENCIA       0\n",
            "PAIS_RESIDENCIA     0\n",
            "IDADE               0\n",
            "dtype: int64\n"
          ],
          "name": "stdout"
        }
      ]
    },
    {
      "cell_type": "code",
      "metadata": {
        "colab": {
          "base_uri": "https://localhost:8080/"
        },
        "id": "BeD3fjkLMOaB",
        "outputId": "701beee9-91ad-4ba1-b5e0-8074a1859257"
      },
      "source": [
        "print('Informações sobre o dataframe')\n",
        "print(df.info())"
      ],
      "execution_count": 7,
      "outputs": [
        {
          "output_type": "stream",
          "text": [
            "Informações sobre o dataframe\n",
            "<class 'pandas.core.frame.DataFrame'>\n",
            "Int64Index: 21365330 entries, 0 to 21365329\n",
            "Data columns (total 11 columns):\n",
            " #   Column            Dtype \n",
            "---  ------            ----- \n",
            " 0   ANO_NASCIMENTO    int64 \n",
            " 1   PAIS_NASCIMENTO   object\n",
            " 2   ESTADO_CIVIL      object\n",
            " 3   ESCOLARIDADE      object\n",
            " 4   VINCULACAO_ANO    int64 \n",
            " 5   DISPENSA          object\n",
            " 6   ZONA_RESIDENCIAL  object\n",
            " 7   MUN_RESIDENCIA    object\n",
            " 8   UF_RESIDENCIA     object\n",
            " 9   PAIS_RESIDENCIA   object\n",
            " 10  IDADE             int64 \n",
            "dtypes: int64(3), object(8)\n",
            "memory usage: 1.9+ GB\n",
            "None\n"
          ],
          "name": "stdout"
        }
      ]
    },
    {
      "cell_type": "markdown",
      "metadata": {
        "id": "BVA8wlGVAOF4"
      },
      "source": [
        "### Analisandos os dados únicos em cada coluna"
      ]
    },
    {
      "cell_type": "code",
      "metadata": {
        "id": "F_x8MZfjKJLH",
        "colab": {
          "base_uri": "https://localhost:8080/"
        },
        "outputId": "59c63822-0aab-48e6-94fb-3bcf166048ae"
      },
      "source": [
        "print('=================================================')\n",
        "for coluna in df.columns:\n",
        "  print('Coluna: ', coluna)\n",
        "  print(np.unique(df[coluna], return_counts = True)[0])\n",
        "  print('=================================================')"
      ],
      "execution_count": 8,
      "outputs": [
        {
          "output_type": "stream",
          "text": [
            "=================================================\n",
            "Coluna:  ANO_NASCIMENTO\n",
            "[1900 1908 1911 1919 1920 1921 1922 1924 1925 1926 1927 1928 1929 1930\n",
            " 1931 1932 1933 1934 1935 1936 1937 1938 1939 1940 1941 1942 1943 1944\n",
            " 1945 1946 1947 1948 1949 1950 1951 1952 1953 1954 1955 1956 1957 1958\n",
            " 1959 1960 1961 1962 1963 1964 1965 1966 1967 1968 1969 1970 1971 1972\n",
            " 1973 1974 1975 1976 1977 1978 1979 1980 1981 1982 1983 1984 1985 1986\n",
            " 1987 1988 1989 1990 1991 1992 1993 1994 1995 1996 1997 1998 1999 2000\n",
            " 2001 2002 2003 2018]\n",
            "=================================================\n",
            "Coluna:  PAIS_NASCIMENTO\n",
            "['ADÉLIA' 'AFEGANISTÃO' 'AFRICA DO SUL' 'ALASCA' 'ALBÂNIA' 'ALEMANHA'\n",
            " 'ANDORRA' 'ANGOLA' 'ANGUILLA' 'ANTÁRTICA' 'ANTÍGUA E BARBUDA' 'ARGENTINA'\n",
            " 'ARGÉLIA' 'ARMÊNIA' 'ARUBA' 'ARÁBIA SAUDITA' 'AUSTRÁLIA' 'AZERBAIJÃO'\n",
            " 'AÇORES' 'BAHAMAS' 'BAHREIN' 'BANGLADESH' 'BARBADOS' 'BELARUS' 'BELIZE'\n",
            " 'BENIN' 'BERMUDAS' 'BIRMÂNIA' 'BOLÍVIA' 'BOTSUANA' 'BRASIL'\n",
            " 'BRUNEI E DAR ES-SALAAM' 'BULGÁRIA' 'BURKINA FASSO' 'BURUNDI' 'BUTÃO'\n",
            " 'BÉLGICA' 'BÓSNIA E HERZEGOVINA' 'CABO VERDE' 'CAMARÕES' 'CAMBOJA'\n",
            " 'CANADÁ' 'CASAQUISTÃO' 'CATAR' 'CHADE' 'CHILE' 'CHINA' 'CHIPRE'\n",
            " 'CINGAPURA' 'COLÔMBIA' 'COMORES' 'CORÉIA DO NORTE' 'CORÉIA DO SUL'\n",
            " 'COSTA DO MARFIN' 'COSTA RICA' 'CROÁCIA' 'CUBA' 'CURACAO' 'DINAMARCA'\n",
            " 'DJIBUTI' 'DOMINICA' 'EGITO' 'EL SALVADOR' 'EMIRADOS ÁRABES UNIDOS'\n",
            " 'EQUADOR' 'ERITRÉIA' 'ESCÓCIA' 'ESLOVÁQUIA' 'ESLOVÊNIA' 'ESPANHA'\n",
            " 'ESTÔNIA' 'ETIÓPIA' 'EUA' 'FIJI' 'FILIPINAS' 'FINLÂNDIA' 'FORMOSA'\n",
            " 'FRANÇA' 'GABÃO' 'GANA' 'GEÓRGIA' 'GILBRALTAR' 'GRANADA' 'GRÉCIA'\n",
            " 'GUADALUPE' 'GUATEMALA' 'GUIANA' 'GUIANA FRANCESA' 'GUINÉ' 'GUINÉ-BISSAU'\n",
            " 'HAITI' 'HAVAÍ' 'HOLANDA' 'HONDURAS' 'HONG KONG' 'HUNGRIA'\n",
            " 'ILHA CHRISTMAS' 'ILHAS CAYMAN' 'ILHAS MARIANAS DO NORTE'\n",
            " 'ILHAS PITCAIRN' 'ILHAS REUNIÃO' 'ILHAS VIRGENS AMERICANAS' 'INDONÉSIA'\n",
            " 'INGLATERRA' 'IRAQUE' 'IRLANDA' 'IRLANDA DO NORTE' 'IRÃ' 'ISLÂNDIA'\n",
            " 'ISRAEL' 'ITÁLIA' 'IUGOSLÁVIA' 'IÊMEN' 'JAMAICA' 'JAPÃO' 'JORDÂNIA'\n",
            " 'KIRIBATI' 'KUWAIT' 'LAOS' 'LETÔNIA' 'LIBÉRIA' 'LUXEMBURGO' 'LÍBANO'\n",
            " 'LÍBIA' 'MACAU' 'MACEDÔNIA' 'MADAGÁSCAR' 'MADEIRA' 'MALI' 'MALTA'\n",
            " 'MALÁSIA' 'MARROCOS' 'MARTINICA' 'MAURITÂNIA' 'MAURÍCIO (ILHA)' 'MAYOTTE'\n",
            " 'MIANMAR' 'MOLDOVA' 'MONGÓLIA' 'MONTSERRAT' 'MOÇAMBIQUE' 'MÉXICO'\n",
            " 'MÔNACO' 'NAMÍBIA' 'NEPAL' 'NICARAGUA' 'NIGÉRIA' 'NORUEGA'\n",
            " 'NOVA CALEDÔNIA' 'NOVA ZELÂNDIA' 'NÍGER' 'OMÃ' 'PALAU' 'PALESTINA'\n",
            " 'PANAMÁ' 'PAPUA-NOVA' 'PAQUISTÃO' 'PARAGUAI' 'PAÍS DE GALLES' 'PERU'\n",
            " 'POLINÉSIA FRANCESA' 'POLÔNIA' 'PORTO RICO' 'PORTUGAL' 'QUIRGUISTÃO'\n",
            " 'QUÊNIA' 'REINO UNIDO' 'REP. DOMINICANA' 'REP.CENTRO-AFRICANA'\n",
            " 'REP.DEM.DO CONGO' 'REPÚBLICA CHECA' 'REPÚBLICA DO CONGO' 'REUNIÃO'\n",
            " 'RODRIGUEZ' 'ROMÊNIA' 'RUANDA' 'RÚSSIA' 'S. PIERRE E MIQUELON'\n",
            " 'S.VICENTE E GRANADINAS' 'SAARA ESPANHOL' 'SALOMÃO (ILHAS)' 'SANTA LÚCIA'\n",
            " 'SENEGAL' 'SERRA LEOA' 'SERVIA' 'SOMÁLIA' 'SRI LANKA' 'SUAZILÂNDIA'\n",
            " 'SUDÃO' 'SURINAME' 'SUÉCIA' 'SUÍÇA' 'SÃO CRISTOVÃO E NÉVIS' 'SÃO MARINO'\n",
            " 'SÃO TOMÉ E PRÍNCIPE' 'SÍRIA' 'TAILÂNDIA' 'TAITÍ' 'TAJIQUISTÃO'\n",
            " 'TANZÂNIA' 'TCHECO REPÚBLICA' 'TIMOR LESTE' 'TOGO' 'TRANSKEI'\n",
            " 'TRINIDAD TOBAGO' 'TUNÍSIA' 'TURQUIA' 'UCRÂNIA' 'UGANDA' 'URUGUAI'\n",
            " 'UZBEQUISTÃO' 'VANUATU' 'VATICANO' 'VENDA' 'VENEZUELA' 'VIETNÃ'\n",
            " 'WALLIS E FUTUNA' 'ZAIRE' 'ZIMBÁBUE' 'ÁUSTRIA' 'ÍNDIA']\n",
            "=================================================\n",
            "Coluna:  ESTADO_CIVIL\n",
            "['Casado' 'Desquitado' 'Divorciado' 'Outros' 'Separado Judicialmente'\n",
            " 'Solteiro' 'Viúvo']\n",
            "=================================================\n",
            "Coluna:  ESCOLARIDADE\n",
            "['Alfabetizado' 'Analfabeto' 'Doutorado' 'Ensino Fundamental Completo'\n",
            " 'Ensino Fundamental Incompleto' 'Ensino Médio Completo'\n",
            " 'Ensino Médio Incompleto' 'Ensino Superior Completo'\n",
            " 'Ensino Superior Incompleto' 'Mestrado' 'Pós-Doutorado' 'Pós-Graduação']\n",
            "=================================================\n",
            "Coluna:  VINCULACAO_ANO\n",
            "[2007 2008 2009 2010 2011 2012 2013 2014 2015 2016 2017 2018 2019]\n",
            "=================================================\n",
            "Coluna:  DISPENSA\n",
            "['Com dispensa' 'Não informado' 'Sem dispensa']\n",
            "=================================================\n",
            "Coluna:  ZONA_RESIDENCIAL\n",
            "['Rural' 'Urbana']\n",
            "=================================================\n",
            "Coluna:  MUN_RESIDENCIA\n",
            "['ABADIA DE GOIAS' 'ABADIA DOS DOURADOS' 'ABADIANIA' ... 'ZACARIAS'\n",
            " 'ZE DOCA' 'ZORTEA']\n",
            "=================================================\n",
            "Coluna:  UF_RESIDENCIA\n",
            "['AC' 'AL' 'AM' 'AP' 'BA' 'CE' 'DF' 'ES' 'GO' 'KK' 'MA' 'MG' 'MS' 'MT'\n",
            " 'PA' 'PB' 'PE' 'PI' 'PR' 'RJ' 'RN' 'RO' 'RR' 'RS' 'SC' 'SE' 'SP' 'TO']\n",
            "=================================================\n",
            "Coluna:  PAIS_RESIDENCIA\n",
            "['ADÉLIA' 'AFEGANISTÃO' 'AFRICA DO SUL' 'ALASCA' 'ALBÂNIA' 'ALEMANHA'\n",
            " 'ANDORRA' 'ANGOLA' 'ANGUILLA' 'ANTÁRTICA' 'ANTÍGUA E BARBUDA' 'ARGENTINA'\n",
            " 'ARGÉLIA' 'ARMÊNIA' 'ARUBA' 'ARÁBIA SAUDITA' 'AUSTRÁLIA' 'AZERBAIJÃO'\n",
            " 'AÇORES' 'BAHAMAS' 'BAHREIN' 'BANGLADESH' 'BARBADOS' 'BELARUS' 'BELIZE'\n",
            " 'BENIN' 'BERMUDAS' 'BIRMÂNIA' 'BOLÍVIA' 'BOTSUANA' 'BRASIL'\n",
            " 'BRUNEI E DAR ES-SALAAM' 'BULGÁRIA' 'BURKINA FASSO' 'BURUNDI' 'BUTÃO'\n",
            " 'BÉLGICA' 'BÓSNIA E HERZEGOVINA' 'CABO VERDE' 'CAMARÕES' 'CAMBOJA'\n",
            " 'CANADÁ' 'CASAQUISTÃO' 'CATAR' 'CHADE' 'CHILE' 'CHINA' 'CHIPRE'\n",
            " 'CINGAPURA' 'COLÔMBIA' 'COMORES' 'CORÉIA DO NORTE' 'CORÉIA DO SUL'\n",
            " 'COSTA DO MARFIN' 'COSTA RICA' 'CROÁCIA' 'CUBA' 'CURACAO' 'DINAMARCA'\n",
            " 'DJIBUTI' 'DOMINICA' 'EGITO' 'EL SALVADOR' 'EMIRADOS ÁRABES UNIDOS'\n",
            " 'EQUADOR' 'ERITRÉIA' 'ESCÓCIA' 'ESLOVÁQUIA' 'ESLOVÊNIA' 'ESPANHA'\n",
            " 'ESTÔNIA' 'ETIÓPIA' 'EUA' 'FIJI' 'FILIPINAS' 'FINLÂNDIA' 'FORMOSA'\n",
            " 'FRANÇA' 'GABÃO' 'GANA' 'GEÓRGIA' 'GILBRALTAR' 'GRANADA' 'GRÉCIA'\n",
            " 'GUADALUPE' 'GUAM' 'GUATEMALA' 'GUIANA' 'GUIANA FRANCESA' 'GUINÉ'\n",
            " 'GUINÉ EQUATORIAL' 'GUINÉ-BISSAU' 'GÂMBIA' 'HAITI' 'HAVAÍ' 'HOLANDA'\n",
            " 'HONDURAS' 'HONG KONG' 'HUNGRIA' 'ILHA CHRISTMAS' 'ILHAS CAYMAN'\n",
            " 'ILHAS COCOS KEELING' 'ILHAS COOK' 'ILHAS MARIANAS DO NORTE'\n",
            " 'ILHAS TURCAS E CAICOS' 'INDONÉSIA' 'INGLATERRA'\n",
            " 'INMARSAT ATLÂNTICO LESTE' 'IRAQUE' 'IRLANDA' 'IRLANDA DO NORTE' 'IRÃ'\n",
            " 'ISLÂNDIA' 'ISRAEL' 'ITÁLIA' 'IÊMEN' 'JAMAICA' 'JAPÃO' 'JORDÂNIA'\n",
            " 'KIRIBATI' 'KUWAIT' 'LAOS' 'LESOTO' 'LETÔNIA' 'LIBÉRIA' 'LIECHTENSTEIN'\n",
            " 'LITUÂNIA' 'LUXEMBURGO' 'LÍBANO' 'LÍBIA' 'MACAU' 'MACEDÔNIA' 'MADAGÁSCAR'\n",
            " 'MADEIRA' 'MALAUÍ' 'MALDIVAS' 'MALI' 'MALTA' 'MALÁSIA' 'MARROCOS'\n",
            " 'MARTINICA' 'MAURITÂNIA' 'MAURÍCIO (ILHA)' 'MIANMAR' 'MOLDOVA' 'MONGÓLIA'\n",
            " 'MONTSERRAT' 'MOÇAMBIQUE' 'MÉXICO' 'MÔNACO' 'NAMÍBIA' 'NEPAL' 'NICARAGUA'\n",
            " 'NIGÉRIA' 'NORUEGA' 'NOVA CALEDÔNIA' 'NOVA ZELÂNDIA' 'NÍGER' 'OMÃ'\n",
            " 'PALAU' 'PALESTINA' 'PANAMÁ' 'PAPUA-NOVA' 'PAQUISTÃO' 'PARAGUAI'\n",
            " 'PAÍS DE GALLES' 'PERU' 'POLINÉSIA FRANCESA' 'POLÔNIA' 'PORTO RICO'\n",
            " 'PORTUGAL' 'QUIRGUISTÃO' 'QUÊNIA' 'REINO UNIDO' 'REP. DOMINICANA'\n",
            " 'REP.CENTRO-AFRICANA' 'REP.DEM.DO CONGO' 'REPÚBLICA CHECA'\n",
            " 'REPÚBLICA DO CONGO' 'RODRIGUEZ' 'ROMÊNIA' 'RUANDA' 'RÚSSIA'\n",
            " 'S. PIERRE E MIQUELON' 'S.VICENTE E GRANADINAS' 'SAARA ESPANHOL'\n",
            " 'SALOMÃO (ILHAS)' 'SAMOA' 'SAN KITTS E NEVIS' 'SANTA LÚCIA' 'SENEGAL'\n",
            " 'SERRA LEOA' 'SERVIA' 'SOMÁLIA' 'SUAZILÂNDIA' 'SURINAME' 'SUÉCIA' 'SUÍÇA'\n",
            " 'SÃO CRISTOVÃO E NÉVIS' 'SÃO MARINO' 'SÃO TOMÉ E PRÍNCIPE' 'SÍRIA'\n",
            " 'TAILÂNDIA' 'TAITÍ' 'TANZÂNIA' 'TCHECO REPÚBLICA' 'TIMOR LESTE' 'TOGO'\n",
            " 'TRANSKEI' 'TRINIDAD TOBAGO' 'TUNÍSIA' 'TURCOMENISTÃO' 'TURQUIA'\n",
            " 'UCRÂNIA' 'UGANDA' 'URUGUAI' 'VANUATU' 'VATICANO' 'VENDA' 'VENEZUELA'\n",
            " 'VIETNÃ' 'WALLIS E FUTUNA' 'ZAIRE' 'ZÂMBIA' 'ÁUSTRIA' 'ÍNDIA']\n",
            "=================================================\n",
            "Coluna:  IDADE\n",
            "[ -1   8   9  10  11  12  13  14  15  16  17  18  19  20  21  22  23  24\n",
            "  25  26  27  28  29  30  31  32  33  34  35  36  37  38  39  40  41  42\n",
            "  43  44  45  46  47  48  49  50  51  52  53  54  55  56  57  58  59  60\n",
            "  61  62  63  64  65  66  67  68  69  70  71  72  73  74  75  76  77  78\n",
            "  79  80  81  82  83  85  87  88  89  90  91  93  94  99 108 109]\n",
            "=================================================\n"
          ],
          "name": "stdout"
        }
      ]
    },
    {
      "cell_type": "markdown",
      "metadata": {
        "id": "BaUAEAMN4sKE"
      },
      "source": [
        "## Tratando os dados"
      ]
    },
    {
      "cell_type": "markdown",
      "metadata": {
        "id": "JaFiV87m2lBS"
      },
      "source": [
        "### Tratando os valores das colunas de município de residência e UF de residência"
      ]
    },
    {
      "cell_type": "code",
      "metadata": {
        "id": "_XXKnxv_ALqA"
      },
      "source": [
        "#Devido a existencia de cidades com o mesmo nome em estados diferentes, \n",
        "#se faz necessário cria uma coluna que identifique as cidades individualmente\n",
        "df['CIDADE-ESTADO']=df['MUN_RESIDENCIA']+'-'+df['UF_RESIDENCIA']\n",
        "df = df.drop(['MUN_RESIDENCIA','UF_RESIDENCIA'], axis=1)"
      ],
      "execution_count": 9,
      "outputs": []
    },
    {
      "cell_type": "markdown",
      "metadata": {
        "id": "bCVlbDVlJAd_"
      },
      "source": [
        "### Filtrando os valores da coluna ano de nascimento"
      ]
    },
    {
      "cell_type": "code",
      "metadata": {
        "id": "7UbOaqVKJGq_"
      },
      "source": [
        "#Adequa o ano de nascimento para considerar apenas pessoas que podem de fato servir\n",
        "df=df[df['ANO_NASCIMENTO']>=1962]\n",
        "df=df[df['ANO_NASCIMENTO']<=1989]"
      ],
      "execution_count": 10,
      "outputs": []
    },
    {
      "cell_type": "markdown",
      "metadata": {
        "id": "9sM5QunX34tV"
      },
      "source": [
        "### Filtrando os valores da coluna idade"
      ]
    },
    {
      "cell_type": "code",
      "metadata": {
        "id": "PVeCvOpN38iy"
      },
      "source": [
        "#Adequa a idade para ficar entre 18 e 45 anos já que apenas nesta faixa de idade é possível se alistar\n",
        "df=df[df['IDADE']>=18]\n",
        "df=df[df['IDADE']<=45]"
      ],
      "execution_count": 11,
      "outputs": []
    },
    {
      "cell_type": "markdown",
      "metadata": {
        "id": "CzJQumj12gvr"
      },
      "source": [
        "### Tratando os valores da coluna dispensa"
      ]
    },
    {
      "cell_type": "code",
      "metadata": {
        "colab": {
          "base_uri": "https://localhost:8080/"
        },
        "id": "71rE6Pd6JgmA",
        "outputId": "44b7d28c-1e6d-49f4-d4c2-fc743726290f"
      },
      "source": [
        "#Verificando as colunas da coluna dispensa, podemos ver que temos valores 'Não informado' o que prejudica a análise.\n",
        "#Esse caso será tratado a seguir\n",
        "df['DISPENSA'].unique()"
      ],
      "execution_count": 12,
      "outputs": [
        {
          "output_type": "execute_result",
          "data": {
            "text/plain": [
              "array(['Sem dispensa', 'Com dispensa', 'Não informado'], dtype=object)"
            ]
          },
          "metadata": {
            "tags": []
          },
          "execution_count": 12
        }
      ]
    },
    {
      "cell_type": "code",
      "metadata": {
        "id": "fqvRTR7kGJqv"
      },
      "source": [
        "def dispensa(status):\n",
        "  if status == 'Não informado':\n",
        "    return 2\n",
        "\n",
        "  if status == 'Sem dispensa':\n",
        "    return 1\n",
        "\n",
        "  if status == 'Com dispensa':\n",
        "    return 0\n",
        "\n",
        "#Padronizando a coluna dispensa\n",
        "df['DISPENSA']=df['DISPENSA'].apply(lambda x: dispensa(x))\n",
        "\n",
        "#Os dados da coluna dispensa com valor 'Não informado' são dropados\n",
        "df=df[df['DISPENSA']!= 2]"
      ],
      "execution_count": 13,
      "outputs": []
    },
    {
      "cell_type": "code",
      "metadata": {
        "id": "asqqdX7RK04T"
      },
      "source": [
        "#A coluna 'DISPENSA' é o target, logo deve ser eliminada do dataframe principal\n",
        "target = df[\"DISPENSA\"]\n",
        "df = df.drop(['DISPENSA'], axis=1)"
      ],
      "execution_count": 14,
      "outputs": []
    },
    {
      "cell_type": "markdown",
      "metadata": {
        "id": "eXg_5dN-3EHj"
      },
      "source": [
        "### Tratando os valores da coluna estado cívil"
      ]
    },
    {
      "cell_type": "code",
      "metadata": {
        "id": "I1oDmPvM3O3j"
      },
      "source": [
        "### Os termos 'Desquitado' e 'Separado Judicialmente', serão substituidos por 'divorciado'\n",
        "df['ESTADO_CIVIL']=df['ESTADO_CIVIL'].replace('Desquitado', 'Divorciado')\n",
        "df['ESTADO_CIVIL']=df['ESTADO_CIVIL'].replace('Separado Judicialmente', 'Divorciado')\n",
        "df['ESTADO_CIVIL']=df['ESTADO_CIVIL'].replace('Viuvo', 'Viúvo')"
      ],
      "execution_count": 15,
      "outputs": []
    },
    {
      "cell_type": "code",
      "metadata": {
        "colab": {
          "base_uri": "https://localhost:8080/",
          "height": 0
        },
        "id": "ERs-GkPxjakt",
        "outputId": "798ff786-cb46-45df-830b-edd6cb2a5313"
      },
      "source": [
        "df.head()"
      ],
      "execution_count": 16,
      "outputs": [
        {
          "output_type": "execute_result",
          "data": {
            "text/html": [
              "<div>\n",
              "<style scoped>\n",
              "    .dataframe tbody tr th:only-of-type {\n",
              "        vertical-align: middle;\n",
              "    }\n",
              "\n",
              "    .dataframe tbody tr th {\n",
              "        vertical-align: top;\n",
              "    }\n",
              "\n",
              "    .dataframe thead th {\n",
              "        text-align: right;\n",
              "    }\n",
              "</style>\n",
              "<table border=\"1\" class=\"dataframe\">\n",
              "  <thead>\n",
              "    <tr style=\"text-align: right;\">\n",
              "      <th></th>\n",
              "      <th>ANO_NASCIMENTO</th>\n",
              "      <th>PAIS_NASCIMENTO</th>\n",
              "      <th>ESTADO_CIVIL</th>\n",
              "      <th>ESCOLARIDADE</th>\n",
              "      <th>VINCULACAO_ANO</th>\n",
              "      <th>ZONA_RESIDENCIAL</th>\n",
              "      <th>PAIS_RESIDENCIA</th>\n",
              "      <th>IDADE</th>\n",
              "      <th>CIDADE-ESTADO</th>\n",
              "    </tr>\n",
              "    <tr>\n",
              "      <th>ÍNDICE</th>\n",
              "      <th></th>\n",
              "      <th></th>\n",
              "      <th></th>\n",
              "      <th></th>\n",
              "      <th></th>\n",
              "      <th></th>\n",
              "      <th></th>\n",
              "      <th></th>\n",
              "      <th></th>\n",
              "    </tr>\n",
              "  </thead>\n",
              "  <tbody>\n",
              "    <tr>\n",
              "      <th>0</th>\n",
              "      <td>1989</td>\n",
              "      <td>BRASIL</td>\n",
              "      <td>Solteiro</td>\n",
              "      <td>Ensino Médio Completo</td>\n",
              "      <td>2007</td>\n",
              "      <td>Urbana</td>\n",
              "      <td>BRASIL</td>\n",
              "      <td>18</td>\n",
              "      <td>PIRASSUNUNGA-SP</td>\n",
              "    </tr>\n",
              "    <tr>\n",
              "      <th>1</th>\n",
              "      <td>1989</td>\n",
              "      <td>BRASIL</td>\n",
              "      <td>Casado</td>\n",
              "      <td>Ensino Superior Completo</td>\n",
              "      <td>2007</td>\n",
              "      <td>Urbana</td>\n",
              "      <td>BRASIL</td>\n",
              "      <td>18</td>\n",
              "      <td>SAO PAULO-SP</td>\n",
              "    </tr>\n",
              "    <tr>\n",
              "      <th>2</th>\n",
              "      <td>1989</td>\n",
              "      <td>BRASIL</td>\n",
              "      <td>Solteiro</td>\n",
              "      <td>Ensino Médio Completo</td>\n",
              "      <td>2007</td>\n",
              "      <td>Urbana</td>\n",
              "      <td>BRASIL</td>\n",
              "      <td>18</td>\n",
              "      <td>CATANDUVA-SP</td>\n",
              "    </tr>\n",
              "    <tr>\n",
              "      <th>3</th>\n",
              "      <td>1989</td>\n",
              "      <td>BRASIL</td>\n",
              "      <td>Solteiro</td>\n",
              "      <td>Ensino Médio Completo</td>\n",
              "      <td>2007</td>\n",
              "      <td>Urbana</td>\n",
              "      <td>BRASIL</td>\n",
              "      <td>18</td>\n",
              "      <td>PIRAJUI-SP</td>\n",
              "    </tr>\n",
              "    <tr>\n",
              "      <th>4</th>\n",
              "      <td>1989</td>\n",
              "      <td>BRASIL</td>\n",
              "      <td>Solteiro</td>\n",
              "      <td>Ensino Médio Completo</td>\n",
              "      <td>2007</td>\n",
              "      <td>Urbana</td>\n",
              "      <td>BRASIL</td>\n",
              "      <td>18</td>\n",
              "      <td>PIRAJUI-SP</td>\n",
              "    </tr>\n",
              "  </tbody>\n",
              "</table>\n",
              "</div>"
            ],
            "text/plain": [
              "        ANO_NASCIMENTO PAIS_NASCIMENTO  ... IDADE    CIDADE-ESTADO\n",
              "ÍNDICE                                  ...                       \n",
              "0                 1989          BRASIL  ...    18  PIRASSUNUNGA-SP\n",
              "1                 1989          BRASIL  ...    18     SAO PAULO-SP\n",
              "2                 1989          BRASIL  ...    18     CATANDUVA-SP\n",
              "3                 1989          BRASIL  ...    18       PIRAJUI-SP\n",
              "4                 1989          BRASIL  ...    18       PIRAJUI-SP\n",
              "\n",
              "[5 rows x 9 columns]"
            ]
          },
          "metadata": {
            "tags": []
          },
          "execution_count": 16
        }
      ]
    },
    {
      "cell_type": "markdown",
      "metadata": {
        "id": "ukD4np6PvVDG"
      },
      "source": [
        "## Categorização dos dados"
      ]
    },
    {
      "cell_type": "code",
      "metadata": {
        "id": "LvQTiZwLAK6v"
      },
      "source": [
        "for col in ['CIDADE-ESTADO','PAIS_RESIDENCIA','ANO_NASCIMENTO','PAIS_NASCIMENTO','VINCULACAO_ANO','IDADE']:\n",
        "    # Converte a coluna para 'category'\n",
        "    df[col] = df[col].astype('category')\n",
        "    # Cria uma nova coluna codificada\n",
        "    df[col+'_new']=df[col].cat.codes\n",
        "    # Elimina a coluna original\n",
        "    df.drop(col, axis=1, inplace=True)\n",
        "for col in ['ZONA_RESIDENCIAL','ESTADO_CIVIL','ESCOLARIDADE']:\n",
        "    nova_col = pd.get_dummies(df[col])\n",
        "    df = pd.concat([df,nova_col],axis=1)\n",
        "    df.drop(col, axis=1,inplace=True)"
      ],
      "execution_count": 17,
      "outputs": []
    },
    {
      "cell_type": "code",
      "metadata": {
        "id": "bZ7iqTPwFd7d",
        "colab": {
          "base_uri": "https://localhost:8080/",
          "height": 0
        },
        "outputId": "9331b4ba-b12a-48c7-a8bf-7c4d40265227"
      },
      "source": [
        "df.head()"
      ],
      "execution_count": 18,
      "outputs": [
        {
          "output_type": "execute_result",
          "data": {
            "text/html": [
              "<div>\n",
              "<style scoped>\n",
              "    .dataframe tbody tr th:only-of-type {\n",
              "        vertical-align: middle;\n",
              "    }\n",
              "\n",
              "    .dataframe tbody tr th {\n",
              "        vertical-align: top;\n",
              "    }\n",
              "\n",
              "    .dataframe thead th {\n",
              "        text-align: right;\n",
              "    }\n",
              "</style>\n",
              "<table border=\"1\" class=\"dataframe\">\n",
              "  <thead>\n",
              "    <tr style=\"text-align: right;\">\n",
              "      <th></th>\n",
              "      <th>CIDADE-ESTADO_new</th>\n",
              "      <th>PAIS_RESIDENCIA_new</th>\n",
              "      <th>ANO_NASCIMENTO_new</th>\n",
              "      <th>PAIS_NASCIMENTO_new</th>\n",
              "      <th>VINCULACAO_ANO_new</th>\n",
              "      <th>IDADE_new</th>\n",
              "      <th>Rural</th>\n",
              "      <th>Urbana</th>\n",
              "      <th>Casado</th>\n",
              "      <th>Divorciado</th>\n",
              "      <th>Outros</th>\n",
              "      <th>Solteiro</th>\n",
              "      <th>Viúvo</th>\n",
              "      <th>Alfabetizado</th>\n",
              "      <th>Analfabeto</th>\n",
              "      <th>Doutorado</th>\n",
              "      <th>Ensino Fundamental Completo</th>\n",
              "      <th>Ensino Fundamental Incompleto</th>\n",
              "      <th>Ensino Médio Completo</th>\n",
              "      <th>Ensino Médio Incompleto</th>\n",
              "      <th>Ensino Superior Completo</th>\n",
              "      <th>Ensino Superior Incompleto</th>\n",
              "      <th>Mestrado</th>\n",
              "      <th>Pós-Doutorado</th>\n",
              "      <th>Pós-Graduação</th>\n",
              "    </tr>\n",
              "    <tr>\n",
              "      <th>ÍNDICE</th>\n",
              "      <th></th>\n",
              "      <th></th>\n",
              "      <th></th>\n",
              "      <th></th>\n",
              "      <th></th>\n",
              "      <th></th>\n",
              "      <th></th>\n",
              "      <th></th>\n",
              "      <th></th>\n",
              "      <th></th>\n",
              "      <th></th>\n",
              "      <th></th>\n",
              "      <th></th>\n",
              "      <th></th>\n",
              "      <th></th>\n",
              "      <th></th>\n",
              "      <th></th>\n",
              "      <th></th>\n",
              "      <th></th>\n",
              "      <th></th>\n",
              "      <th></th>\n",
              "      <th></th>\n",
              "      <th></th>\n",
              "      <th></th>\n",
              "      <th></th>\n",
              "    </tr>\n",
              "  </thead>\n",
              "  <tbody>\n",
              "    <tr>\n",
              "      <th>0</th>\n",
              "      <td>3894</td>\n",
              "      <td>26</td>\n",
              "      <td>27</td>\n",
              "      <td>24</td>\n",
              "      <td>0</td>\n",
              "      <td>0</td>\n",
              "      <td>0</td>\n",
              "      <td>1</td>\n",
              "      <td>0</td>\n",
              "      <td>0</td>\n",
              "      <td>0</td>\n",
              "      <td>1</td>\n",
              "      <td>0</td>\n",
              "      <td>0</td>\n",
              "      <td>0</td>\n",
              "      <td>0</td>\n",
              "      <td>0</td>\n",
              "      <td>0</td>\n",
              "      <td>1</td>\n",
              "      <td>0</td>\n",
              "      <td>0</td>\n",
              "      <td>0</td>\n",
              "      <td>0</td>\n",
              "      <td>0</td>\n",
              "      <td>0</td>\n",
              "    </tr>\n",
              "    <tr>\n",
              "      <th>1</th>\n",
              "      <td>4914</td>\n",
              "      <td>26</td>\n",
              "      <td>27</td>\n",
              "      <td>24</td>\n",
              "      <td>0</td>\n",
              "      <td>0</td>\n",
              "      <td>0</td>\n",
              "      <td>1</td>\n",
              "      <td>1</td>\n",
              "      <td>0</td>\n",
              "      <td>0</td>\n",
              "      <td>0</td>\n",
              "      <td>0</td>\n",
              "      <td>0</td>\n",
              "      <td>0</td>\n",
              "      <td>0</td>\n",
              "      <td>0</td>\n",
              "      <td>0</td>\n",
              "      <td>0</td>\n",
              "      <td>0</td>\n",
              "      <td>1</td>\n",
              "      <td>0</td>\n",
              "      <td>0</td>\n",
              "      <td>0</td>\n",
              "      <td>0</td>\n",
              "    </tr>\n",
              "    <tr>\n",
              "      <th>2</th>\n",
              "      <td>1188</td>\n",
              "      <td>26</td>\n",
              "      <td>27</td>\n",
              "      <td>24</td>\n",
              "      <td>0</td>\n",
              "      <td>0</td>\n",
              "      <td>0</td>\n",
              "      <td>1</td>\n",
              "      <td>0</td>\n",
              "      <td>0</td>\n",
              "      <td>0</td>\n",
              "      <td>1</td>\n",
              "      <td>0</td>\n",
              "      <td>0</td>\n",
              "      <td>0</td>\n",
              "      <td>0</td>\n",
              "      <td>0</td>\n",
              "      <td>0</td>\n",
              "      <td>1</td>\n",
              "      <td>0</td>\n",
              "      <td>0</td>\n",
              "      <td>0</td>\n",
              "      <td>0</td>\n",
              "      <td>0</td>\n",
              "      <td>0</td>\n",
              "    </tr>\n",
              "    <tr>\n",
              "      <th>3</th>\n",
              "      <td>3878</td>\n",
              "      <td>26</td>\n",
              "      <td>27</td>\n",
              "      <td>24</td>\n",
              "      <td>0</td>\n",
              "      <td>0</td>\n",
              "      <td>0</td>\n",
              "      <td>1</td>\n",
              "      <td>0</td>\n",
              "      <td>0</td>\n",
              "      <td>0</td>\n",
              "      <td>1</td>\n",
              "      <td>0</td>\n",
              "      <td>0</td>\n",
              "      <td>0</td>\n",
              "      <td>0</td>\n",
              "      <td>0</td>\n",
              "      <td>0</td>\n",
              "      <td>1</td>\n",
              "      <td>0</td>\n",
              "      <td>0</td>\n",
              "      <td>0</td>\n",
              "      <td>0</td>\n",
              "      <td>0</td>\n",
              "      <td>0</td>\n",
              "    </tr>\n",
              "    <tr>\n",
              "      <th>4</th>\n",
              "      <td>3878</td>\n",
              "      <td>26</td>\n",
              "      <td>27</td>\n",
              "      <td>24</td>\n",
              "      <td>0</td>\n",
              "      <td>0</td>\n",
              "      <td>0</td>\n",
              "      <td>1</td>\n",
              "      <td>0</td>\n",
              "      <td>0</td>\n",
              "      <td>0</td>\n",
              "      <td>1</td>\n",
              "      <td>0</td>\n",
              "      <td>0</td>\n",
              "      <td>0</td>\n",
              "      <td>0</td>\n",
              "      <td>0</td>\n",
              "      <td>0</td>\n",
              "      <td>1</td>\n",
              "      <td>0</td>\n",
              "      <td>0</td>\n",
              "      <td>0</td>\n",
              "      <td>0</td>\n",
              "      <td>0</td>\n",
              "      <td>0</td>\n",
              "    </tr>\n",
              "  </tbody>\n",
              "</table>\n",
              "</div>"
            ],
            "text/plain": [
              "        CIDADE-ESTADO_new  PAIS_RESIDENCIA_new  ...  Pós-Doutorado  Pós-Graduação\n",
              "ÍNDICE                                          ...                              \n",
              "0                    3894                   26  ...              0              0\n",
              "1                    4914                   26  ...              0              0\n",
              "2                    1188                   26  ...              0              0\n",
              "3                    3878                   26  ...              0              0\n",
              "4                    3878                   26  ...              0              0\n",
              "\n",
              "[5 rows x 25 columns]"
            ]
          },
          "metadata": {
            "tags": []
          },
          "execution_count": 18
        }
      ]
    },
    {
      "cell_type": "markdown",
      "metadata": {
        "id": "UwWMF_DQAaAG"
      },
      "source": [
        "# Algoritmo de classificação"
      ]
    },
    {
      "cell_type": "markdown",
      "metadata": {
        "id": "5qaPEpPFAsAk"
      },
      "source": [
        "## Importa funções e modelos"
      ]
    },
    {
      "cell_type": "code",
      "metadata": {
        "id": "AsLECUpBBCKg"
      },
      "source": [
        "def decision_tree_classificador(train_X:pd.core.frame.DataFrame, test_X:pd.core.frame.DataFrame, train_y:pd.core.series.Series, test_y:pd.core.series.Series):\n",
        "    #Importando as bibliotecas\n",
        "    from sklearn.tree import DecisionTreeClassifier\n",
        "    from sklearn.metrics import accuracy_score\n",
        "    \n",
        "    # Decision Tree\n",
        "    #Define os parametros do modelo\n",
        "    decision_tree = DecisionTreeClassifier(min_samples_split= 4, min_samples_leaf= 3, max_depth= 19, criterion= 'entropy')\n",
        "    \n",
        "    #Treina o modelo\n",
        "    decision_tree.fit(train_X, train_y)\n",
        "    \n",
        "    #Calcula o score do modelo\n",
        "    acc_decision_tree = round(decision_tree.score(test_X, test_y) * 100, 2)\n",
        "    \n",
        "    return decision_tree, acc_decision_tree #Retorna o modelo e o score do modelo"
      ],
      "execution_count": 19,
      "outputs": []
    },
    {
      "cell_type": "code",
      "metadata": {
        "id": "jw5re266BV0l"
      },
      "source": [
        "def random_forest_classificador(train_X:pd.core.frame.DataFrame, test_X:pd.core.frame.DataFrame, train_y:pd.core.series.Series, test_y:pd.core.series.Series):\n",
        "    #Importando as bibliotecas\n",
        "    from sklearn.ensemble import RandomForestClassifier\n",
        "    from sklearn.metrics import accuracy_score\n",
        "    \n",
        "    # Random Forest\n",
        "    #Define os parametros do modelo\n",
        "    random_forest = RandomForestClassifier(n_estimators=20, max_depth=40, n_jobs=-1)\n",
        "\n",
        "    #Treina o modelo\n",
        "    random_forest.fit(train_X, train_y)\n",
        "    \n",
        "    #Calcula o score do modelo\n",
        "    acc_random_forest = round(random_forest.score(test_X, test_y) * 100, 2)\n",
        "    \n",
        "    return random_forest, acc_random_forest #Retorna o modelo e o score do modelo"
      ],
      "execution_count": 20,
      "outputs": []
    },
    {
      "cell_type": "code",
      "metadata": {
        "id": "urrsVKIH8YMO"
      },
      "source": [
        "def avalia_classificador(clf, x_test, y_test):\n",
        "  #Esta função avalia os classificadores\n",
        "  from sklearn.metrics import precision_recall_fscore_support\n",
        "  from sklearn.metrics import confusion_matrix,accuracy_score\n",
        "  predictions = clf.predict(x_test)\n",
        "  print('Relatório de precisão:\\nprecision \\t\\t\\t recall \\t\\t\\t f-score \\t\\t\\t support\\n',\n",
        "        precision_recall_fscore_support(y_test, predictions)[0],'\\t',\n",
        "        precision_recall_fscore_support(y_test, predictions)[1],\n",
        "        '\\t',precision_recall_fscore_support(y_test, predictions)[2],'\\t',\n",
        "        precision_recall_fscore_support(y_test, predictions)[3],'\\n')\n",
        "  print('Matriz de confusão:\\n',confusion_matrix(y_test, predictions),'\\n')\n",
        "  print('Accuracy score:',accuracy_score(y_test, predictions)*100,'\\n')\n",
        "\n",
        "def melhores_features(modelo, train_X):\n",
        "  #Extrai a importância de cada característica (feature)\n",
        "  analise = pd.DataFrame({'Característica': list(train_X.columns),\n",
        "                    'importancia': modelo.feature_importances_}).\\\n",
        "                      sort_values('importancia', ascending = False)\n",
        "                      \n",
        "  return(analise)\n",
        "\n",
        "def curva_roc(clf, x_test, y_test):\n",
        "  import matplotlib.pyplot as plt\n",
        "  from sklearn.metrics import plot_roc_curve\n",
        "  plot_roc_curve(clf, x_test, y_test)\n",
        "  plt.show()"
      ],
      "execution_count": 21,
      "outputs": []
    },
    {
      "cell_type": "code",
      "metadata": {
        "id": "Uz5sq_dCyENv"
      },
      "source": [
        "def gerador_de_dados_de_treino_e_teste(dataframe, target, ajustar_escala):\n",
        "  # Gera os dados de treino e teste com escala já ajustada\n",
        "  from sklearn.model_selection import train_test_split\n",
        "  x_train, x_test, y_train, y_test = train_test_split(dataframe, target, test_size=0.3, random_state=30, stratify=target)\n",
        "  \n",
        "  # Se for escolhido ajustar escala, as escalas dos dados de treino e teste são ajustadas\n",
        "  if ajustar_escala == True:\n",
        "    x_train, x_test = ajustador_de_escala(x_train, x_test)\n",
        "\n",
        "  return (x_train, x_test, y_train, y_test)\n",
        "\n",
        "def ajustador_de_escala(x_train, x_test):\n",
        "  #Ajusta a escala dos dados removendo outlyers e melhorando a acurácia do modelo\n",
        "  from sklearn.neural_network import MLPClassifier\n",
        "  from sklearn.preprocessing import RobustScaler\n",
        "  \n",
        "  #Ajusta as features\n",
        "  scaler = RobustScaler()\n",
        "  scaler.fit(x_train)\n",
        "  x_train = scaler.transform(x_train)  \n",
        "  x_test = scaler.transform(x_test)\n",
        "\n",
        "  return (x_train, x_test)\n",
        "\n",
        "def und_sampling(train_X:pd.core.frame.DataFrame,train_y:pd.core.series.Series):\n",
        "#Gera os conjuntos de treino e teste balanceados por undersampling\n",
        "    #Importando as bibliotecas\n",
        "    from imblearn.under_sampling import RandomUnderSampler\n",
        "    import seaborn as sns\n",
        "    \n",
        "    # Aplicando a técnica undersampling\n",
        "    rus = RandomUnderSampler()\n",
        "\n",
        "    #Novos conjuntos de treino gerados\n",
        "    X_und, y_und = rus.fit_sample(train_X, train_y)\n",
        "\n",
        "    # Verificar o balanceamento das classes\n",
        "    print(pd.Series(y_und).value_counts())\n",
        "\n",
        "    # Plotar a nova distribuição de classes\n",
        "    sns.countplot(y_und)\n",
        "    \n",
        "    #Retorna os novos conjuntos de treino gerados\n",
        "    return X_und, y_und"
      ],
      "execution_count": 22,
      "outputs": []
    },
    {
      "cell_type": "markdown",
      "metadata": {
        "id": "v7J7qJKHBulO"
      },
      "source": [
        "## Gera conjuntos de treino e teste"
      ]
    },
    {
      "cell_type": "code",
      "metadata": {
        "id": "CZaXmd4iB3LY"
      },
      "source": [
        "# Salva o nome das colunas\n",
        "colunas=df.columns\n",
        "\n",
        "# Cria os dados de treino e teste\n",
        "train_X, test_X, train_y, test_y = gerador_de_dados_de_treino_e_teste(df, target, False)\n",
        "\n",
        "# Libera memória ram\n",
        "df=pd.DataFrame()\n",
        "target=[]"
      ],
      "execution_count": 23,
      "outputs": []
    },
    {
      "cell_type": "markdown",
      "metadata": {
        "id": "I9L7ICwaGEXQ"
      },
      "source": [
        "# Treina classificadores"
      ]
    },
    {
      "cell_type": "markdown",
      "metadata": {
        "id": "UvRk_aJ2HLMm"
      },
      "source": [
        "### Treinando o classificador 1: Decision Tree"
      ]
    },
    {
      "cell_type": "code",
      "metadata": {
        "id": "WtbsOsaTC1Zs"
      },
      "source": [
        "clf, acc_decision_tree=decision_tree_classificador(train_X, test_X, train_y, test_y)"
      ],
      "execution_count": 24,
      "outputs": []
    },
    {
      "cell_type": "code",
      "metadata": {
        "colab": {
          "base_uri": "https://localhost:8080/"
        },
        "id": "1qyXQbi80TiS",
        "outputId": "4a44ac34-e703-4b56-8efd-512032260e40"
      },
      "source": [
        "print('clf',type(clf))\n",
        "print('acc_decision_tree',type(acc_decision_tree))"
      ],
      "execution_count": 25,
      "outputs": [
        {
          "output_type": "stream",
          "text": [
            "clf <class 'sklearn.tree._classes.DecisionTreeClassifier'>\n",
            "acc_decision_tree <class 'numpy.float64'>\n"
          ],
          "name": "stdout"
        }
      ]
    },
    {
      "cell_type": "markdown",
      "metadata": {
        "id": "aNz0KmzIeXDy"
      },
      "source": [
        "### Avaliando o classificador 1"
      ]
    },
    {
      "cell_type": "code",
      "metadata": {
        "id": "hn6U2jv14lye",
        "colab": {
          "base_uri": "https://localhost:8080/",
          "height": 455
        },
        "outputId": "57726c14-44af-429e-c592-a90bcbbe85d4"
      },
      "source": [
        "avalia_classificador(clf, test_X, test_y)\n",
        "curva_roc(clf, test_X, test_y)"
      ],
      "execution_count": 26,
      "outputs": [
        {
          "output_type": "stream",
          "text": [
            "Relatório de precisão:\n",
            "precision \t\t\t recall \t\t\t f-score \t\t\t support\n",
            " [0.92025385 0.73357031] \t [0.95455246 0.6020299 ] \t [0.93708942 0.66132254] \t [1070355  222474] \n",
            "\n",
            "Matriz de confusão:\n",
            " [[1021710   48645]\n",
            " [  88538  133936]] \n",
            "\n",
            "Accuracy score: 89.38892923967516 \n",
            "\n"
          ],
          "name": "stdout"
        },
        {
          "output_type": "display_data",
          "data": {
            "image/png": "[encoded data removed]",
            "text/plain": [
              "<Figure size 432x288 with 1 Axes>"
            ]
          },
          "metadata": {
            "tags": [],
            "needs_background": "light"
          }
        }
      ]
    },
    {
      "cell_type": "code",
      "metadata": {
        "colab": {
          "base_uri": "https://localhost:8080/",
          "height": 1000
        },
        "id": "HhnWE1M7g5zt",
        "outputId": "78a4dea4-0fd4-4ff6-b1d5-e4bf84d8d6ce"
      },
      "source": [
        "analise=melhores_features(clf, train_X)\n",
        "\n",
        "# Imprime as caracteristicas mais importantes do modelo\n",
        "print(\"As caracteristicas mais importantes do modelo são:\")\n",
        "print(analise)\n",
        "analise.plot('Característica', 'importancia', figsize=(10,6), legend=False, title ='MELHORES FEATURES', grid =1)\n",
        "plt.xticks(rotation=45)"
      ],
      "execution_count": 27,
      "outputs": [
        {
          "output_type": "stream",
          "text": [
            "As caracteristicas mais importantes do modelo são:\n",
            "                   Característica  importancia\n",
            "0               CIDADE-ESTADO_new     0.459062\n",
            "5                       IDADE_new     0.402563\n",
            "7                          Urbana     0.036473\n",
            "13                   Alfabetizado     0.030317\n",
            "4              VINCULACAO_ANO_new     0.015440\n",
            "18          Ensino Médio Completo     0.010140\n",
            "17  Ensino Fundamental Incompleto     0.010027\n",
            "6                           Rural     0.008750\n",
            "2              ANO_NASCIMENTO_new     0.005920\n",
            "16    Ensino Fundamental Completo     0.004169\n",
            "20       Ensino Superior Completo     0.003691\n",
            "21     Ensino Superior Incompleto     0.003588\n",
            "11                       Solteiro     0.002672\n",
            "19        Ensino Médio Incompleto     0.002214\n",
            "14                     Analfabeto     0.001328\n",
            "8                          Casado     0.000993\n",
            "10                         Outros     0.000771\n",
            "1             PAIS_RESIDENCIA_new     0.000732\n",
            "24                  Pós-Graduação     0.000419\n",
            "9                      Divorciado     0.000400\n",
            "3             PAIS_NASCIMENTO_new     0.000254\n",
            "22                       Mestrado     0.000061\n",
            "15                      Doutorado     0.000015\n",
            "23                  Pós-Doutorado     0.000000\n",
            "12                          Viúvo     0.000000\n"
          ],
          "name": "stdout"
        },
        {
          "output_type": "execute_result",
          "data": {
            "text/plain": [
              "(array([-5.,  0.,  5., 10., 15., 20., 25., 30.]),\n",
              " <a list of 8 Text major ticklabel objects>)"
            ]
          },
          "metadata": {
            "tags": []
          },
          "execution_count": 27
        },
        {
          "output_type": "display_data",
          "data": {
            "image/png": "[encoded data removed]",
            "text/plain": [
              "<Figure size 720x432 with 1 Axes>"
            ]
          },
          "metadata": {
            "tags": [],
            "needs_background": "light"
          }
        }
      ]
    },
    {
      "cell_type": "markdown",
      "metadata": {
        "id": "x3lEFdm9ug_w"
      },
      "source": [
        "## Treinando os classificadores com undersampling"
      ]
    },
    {
      "cell_type": "code",
      "metadata": {
        "colab": {
          "base_uri": "https://localhost:8080/",
          "height": 1000
        },
        "id": "y7WugZFTuk6I",
        "outputId": "06426ce9-8f9a-47a2-bd9e-09862482143d"
      },
      "source": [
        "train_X, train_y=und_sampling(train_X, train_y)\n",
        "clf, acc_decision_tree=decision_tree_classificador(train_X, test_X, train_y, test_y)\n",
        "avalia_classificador(clf, test_X, test_y)\n",
        "curva_roc(clf, test_X, test_y)"
      ],
      "execution_count": 28,
      "outputs": [
        {
          "output_type": "stream",
          "text": [
            "/usr/local/lib/python3.7/dist-packages/sklearn/externals/six.py:31: FutureWarning:\n",
            "\n",
            "The module is deprecated in version 0.21 and will be removed in version 0.23 since we've dropped support for Python 2.7. Please rely on the official version of six (https://pypi.org/project/six/).\n",
            "\n",
            "/usr/local/lib/python3.7/dist-packages/sklearn/utils/deprecation.py:144: FutureWarning:\n",
            "\n",
            "The sklearn.neighbors.base module is  deprecated in version 0.22 and will be removed in version 0.24. The corresponding classes / functions should instead be imported from sklearn.neighbors. Anything that cannot be imported from sklearn.neighbors is now part of the private API.\n",
            "\n",
            "/usr/local/lib/python3.7/dist-packages/sklearn/utils/deprecation.py:87: FutureWarning:\n",
            "\n",
            "Function safe_indexing is deprecated; safe_indexing is deprecated in version 0.22 and will be removed in version 0.24.\n",
            "\n"
          ],
          "name": "stderr"
        },
        {
          "output_type": "stream",
          "text": [
            "1    519105\n",
            "0    519105\n",
            "dtype: int64\n"
          ],
          "name": "stdout"
        },
        {
          "output_type": "stream",
          "text": [
            "/usr/local/lib/python3.7/dist-packages/seaborn/_decorators.py:43: FutureWarning:\n",
            "\n",
            "Pass the following variable as a keyword arg: x. From version 0.12, the only valid positional argument will be `data`, and passing other arguments without an explicit keyword will result in an error or misinterpretation.\n",
            "\n"
          ],
          "name": "stderr"
        },
        {
          "output_type": "stream",
          "text": [
            "Relatório de precisão:\n",
            "precision \t\t\t recall \t\t\t f-score \t\t\t support\n",
            " [0.96827207 0.51798663] \t [0.83195202 0.8688431 ] \t [0.8949507  0.64903297] \t [1070355  222474] \n",
            "\n",
            "Matriz de confusão:\n",
            " [[890484 179871]\n",
            " [ 29179 193295]] \n",
            "\n",
            "Accuracy score: 83.8300347532427 \n",
            "\n"
          ],
          "name": "stdout"
        },
        {
          "output_type": "display_data",
          "data": {
            "image/png": "[encoded data removed]",
            "text/plain": [
              "<Figure size 432x288 with 1 Axes>"
            ]
          },
          "metadata": {
            "tags": [],
            "needs_background": "light"
          }
        },
        {
          "output_type": "display_data",
          "data": {
            "image/png": "[encoded data removed]",
            "text/plain": [
              "<Figure size 432x288 with 1 Axes>"
            ]
          },
          "metadata": {
            "tags": [],
            "needs_background": "light"
          }
        }
      ]
    },
    {
      "cell_type": "markdown",
      "metadata": {
        "id": "-6ZZapM_ecQT"
      },
      "source": [
        "### Treinando o classificador 2: Random Forest"
      ]
    },
    {
      "cell_type": "code",
      "metadata": {
        "id": "HcXYsaNFc-nZ"
      },
      "source": [
        "clf, acc_random_forest=random_forest_classificador(train_X, test_X, train_y, test_y)"
      ],
      "execution_count": 29,
      "outputs": []
    },
    {
      "cell_type": "markdown",
      "metadata": {
        "id": "6VmEOKPRefKH"
      },
      "source": [
        "### Avaliando o classificador 2"
      ]
    },
    {
      "cell_type": "code",
      "metadata": {
        "id": "J9fhevLiB17U",
        "colab": {
          "base_uri": "https://localhost:8080/",
          "height": 455
        },
        "outputId": "389bc1ea-4be3-4e8e-8919-8e2e7b71d199"
      },
      "source": [
        "avalia_classificador(clf, test_X, test_y)\n",
        "curva_roc(clf, test_X, test_y)"
      ],
      "execution_count": 30,
      "outputs": [
        {
          "output_type": "stream",
          "text": [
            "Relatório de precisão:\n",
            "precision \t\t\t recall \t\t\t f-score \t\t\t support\n",
            " [0.97471546 0.49999375] \t [0.81324047 0.89850499] \t [0.88668635 0.64247019] \t [1070355  222474] \n",
            "\n",
            "Matriz de confusão:\n",
            " [[870456 199899]\n",
            " [ 22580 199894]] \n",
            "\n",
            "Accuracy score: 82.79130495989803 \n",
            "\n"
          ],
          "name": "stdout"
        },
        {
          "output_type": "display_data",
          "data": {
            "image/png": "[encoded data removed]",
            "text/plain": [
              "<Figure size 432x288 with 1 Axes>"
            ]
          },
          "metadata": {
            "tags": [],
            "needs_background": "light"
          }
        }
      ]
    },
    {
      "cell_type": "code",
      "metadata": {
        "colab": {
          "base_uri": "https://localhost:8080/"
        },
        "id": "XRVik93i6Ay0",
        "outputId": "cd2bdf1f-d835-4d0a-df4a-c6b27ecee045"
      },
      "source": [
        "print('Acurácia com o classificador Random Forest', print('acc_random_forest', acc_random_forest))"
      ],
      "execution_count": 31,
      "outputs": [
        {
          "output_type": "stream",
          "text": [
            "acc_random_forest 82.79\n",
            "Acurácia com o classificador Random Forest None\n"
          ],
          "name": "stdout"
        }
      ]
    }
  ]
}