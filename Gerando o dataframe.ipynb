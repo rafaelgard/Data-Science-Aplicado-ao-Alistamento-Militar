{
 "cells": [
  {
   "cell_type": "code",
   "execution_count": null,
   "id": "64d25298",
   "metadata": {},
   "outputs": [],
   "source": [
    "import pandas as pd"
   ]
  },
  {
   "cell_type": "code",
   "execution_count": null,
   "id": "03e3d572",
   "metadata": {},
   "outputs": [],
   "source": [
    "# Importa o dataframe inicial\n",
    "df = pd.read_csv(\"H:/Análises Python/Alistamento militar/sermil2007.csv\", \n",
    "                 sep=\",\", \n",
    "                 encoding='ANSI', \n",
    "                 low_memory=False)\n",
    "\n",
    "# Importando os 11 dataframes restantes\n",
    "\n",
    "# O próximo dataframe após o inicial começa pelo ano 2008\n",
    "i = 2008\n",
    "while i < 2020:\n",
    "    # Arquivos com encodificação ANSI\n",
    "    if i <= 2016 or i == 2018:\n",
    "        \n",
    "        \n",
    "        # Cria o nome da variável que armazenará o dataframe do ano\n",
    "        nome_banco_importado = \"sermil\" + str(i)\n",
    "        \n",
    "\n",
    "        banco_importado = pd.read_csv(\"H:/Análises Python/Alistamento militar/\" + nome_banco_importado + \".csv\",\n",
    "                                      sep=\",\",\n",
    "                                      encoding='ANSI', \n",
    "                                      low_memory=False)\n",
    "        \n",
    "\n",
    "        # Faz um append para acrescentar o banco recém importado ao banco principal\n",
    "        df = df.append(banco_importado)\n",
    "        print(\"Banco \", i, \" importado\")\n",
    "        \n",
    "\n",
    "        # Atribui um dataframe vazio ao ultimo dataframe importado para liberar memória ram\n",
    "        banco_importado = pd.DataFrame()\n",
    "\n",
    "        i = i + 1\n",
    "        \n",
    "    # Arquivos com encodificação UTF-8\n",
    "    if i == 2017 or i == 2019:\n",
    "        # Cria o nome da variável que armazenará o dataframe do ano\n",
    "        nome_banco_importado = \"sermil\" + str(i)\n",
    "        banco_importado = pd.read_csv(\"H:/Análises Python/Alistamento militar/\" + nome_banco_importado + \".csv\", \n",
    "            sep=\",\",\n",
    "            encoding='UTF-8', \n",
    "            low_memory=False)\n",
    "\n",
    "        # Faz um append para acrescentar o banco recem importado ao banco principal\n",
    "        df = df.append(banco_importado)\n",
    "        print(\"Banco \", i, \" importado\")\n",
    "\n",
    "        # Atribui um dataframe vazio ao ultimo dataframe importado para liberar memória ram\n",
    "        banco_importado = pd.DataFrame()\n",
    "\n",
    "        i = i + 1"
   ]
  },
  {
   "cell_type": "markdown",
   "id": "c7753e5d",
   "metadata": {},
   "source": [
    "## Verificando os dados únicos de cada coluna"
   ]
  },
  {
   "cell_type": "code",
   "execution_count": null,
   "id": "d842199a",
   "metadata": {},
   "outputs": [],
   "source": [
    "print('=================================================')\n",
    "for coluna in df.columns:\n",
    "    print('Coluna: ', coluna)\n",
    "    print(np.unique(df[coluna], return_counts = True)[0])\n",
    "    print('=================================================')"
   ]
  },
  {
   "cell_type": "markdown",
   "id": "d2b09906",
   "metadata": {},
   "source": [
    "Verificando a coluna escolaridade é possível identificar uma série de valores dististos, buscando uma melhor comprensão eles serão substituidos por valores que estão de acordo com a nova nomeclatura do sistema de ensino brasileiro conforme a lei n° 144/2005"
   ]
  },
  {
   "cell_type": "markdown",
   "id": "b95094f2",
   "metadata": {},
   "source": [
    "Visando padronizar a classificação da escolaridade foi criado um dicionário para fazer a padronização dos valores. Este dicionário foi importado e posteriormente foi gerada uma lista de replaces que foram executados no próximo bloco de comando para substituir os valores antigos pelos novos."
   ]
  },
  {
   "cell_type": "code",
   "execution_count": null,
   "id": "5e61a040",
   "metadata": {},
   "outputs": [],
   "source": [
    "#Importa o dicionário\n",
    "dicionario = pd.read_csv(\"Alistamento militar/Dicionario_series.csv\",sep=\";\",encoding='ANSI')\n",
    "\n",
    "#Substitui os valores no padrão antigo pelos novos\n",
    "i=0\n",
    "while i<46:\n",
    "    df['ESCOLARIDADE']=df['ESCOLARIDADE'].replace(dicionario['Valores_antigos'][i],dicionario['Valores_novos'][i])\n",
    "    i=i+1\n",
    "    \n",
    "print(\"Valores atualizados\")"
   ]
  },
  {
   "cell_type": "code",
   "execution_count": null,
   "id": "efffdd37",
   "metadata": {},
   "outputs": [],
   "source": [
    "# Salva o dataframe atulizado em formato .csv\n",
    "df.to_csv(\"H:/Análises Python/Alistamento militar/df_atualizado_utf8.csv\", sep=\",\", encoding='UTF-8')\n",
    "\n",
    "print(\"O banco de dados atualizado foi salvo\")"
   ]
  }
 ],
 "metadata": {
  "kernelspec": {
   "display_name": "Python 3",
   "language": "python",
   "name": "python3"
  },
  "language_info": {
   "codemirror_mode": {
    "name": "ipython",
    "version": 3
   },
   "file_extension": ".py",
   "mimetype": "text/x-python",
   "name": "python",
   "nbconvert_exporter": "python",
   "pygments_lexer": "ipython3",
   "version": "3.8.8"
  }
 },
 "nbformat": 4,
 "nbformat_minor": 5
}
